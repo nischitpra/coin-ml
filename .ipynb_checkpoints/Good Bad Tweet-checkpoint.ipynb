{
 "cells": [
  {
   "cell_type": "markdown",
   "metadata": {},
   "source": [
    "##### This project is used to create a sentiment report for the clustered data. It makes use of the previously trained `Neural Network` to classify tweets as `Good`, `Bad` or `Useless` (discarded). It generates trend values `sentiment_trend.csv` and plot `sentiment_trend.jpg`"
   ]
  },
  {
   "cell_type": "markdown",
   "metadata": {},
   "source": [
    "# The Good, The Bad and The Ugly (Tweet)"
   ]
  },
  {
   "cell_type": "code",
   "execution_count": 11,
   "metadata": {},
   "outputs": [],
   "source": [
    "import pickle\n",
    "import pandas as pd\n",
    "import numpy as np\n",
    "from pprint import pprint\n",
    "import re\n",
    "import os\n",
    "from nltk.corpus import stopwords\n",
    "from nltk.stem.snowball import EnglishStemmer\n",
    "from matplotlib import pyplot\n",
    "import matplotlib"
   ]
  },
  {
   "cell_type": "code",
   "execution_count": 12,
   "metadata": {},
   "outputs": [
    {
     "name": "stdout",
     "output_type": "stream",
     "text": [
      "['i', 'me', 'my', 'myself', 'we', 'our', 'ours', 'ourselves', 'you', \"you're\", \"you've\", \"you'll\", \"you'd\", 'your', 'yours', 'yourself', 'yourselves', 'he', 'him', 'his', 'himself', 'she', \"she's\", 'her', 'hers', 'herself', 'it', \"it's\", 'its', 'itself', 'they', 'them', 'their', 'theirs', 'themselves', 'what', 'which', 'who', 'whom', 'this', 'that', \"that'll\", 'these', 'those', 'am', 'is', 'are', 'was', 'were', 'be', 'been', 'being', 'have', 'has', 'had', 'having', 'do', 'does', 'did', 'doing', 'a', 'an', 'the', 'and', 'but', 'if', 'or', 'because', 'as', 'until', 'while', 'of', 'at', 'by', 'for', 'with', 'about', 'against', 'between', 'into', 'through', 'during', 'before', 'after', 'above', 'below', 'to', 'from', 'up', 'down', 'in', 'out', 'on', 'off', 'over', 'under', 'again', 'further', 'then', 'once', 'here', 'there', 'when', 'where', 'why', 'how', 'all', 'any', 'both', 'each', 'few', 'more', 'most', 'other', 'some', 'such', 'no', 'nor', 'not', 'only', 'own', 'same', 'so', 'than', 'too', 'very', 's', 't', 'can', 'will', 'just', 'don', \"don't\", 'should', \"should've\", 'now', 'd', 'll', 'm', 'o', 're', 've', 'y', 'ain', 'aren', \"aren't\", 'couldn', \"couldn't\", 'didn', \"didn't\", 'doesn', \"doesn't\", 'hadn', \"hadn't\", 'hasn', \"hasn't\", 'haven', \"haven't\", 'isn', \"isn't\", 'ma', 'mightn', \"mightn't\", 'mustn', \"mustn't\", 'needn', \"needn't\", 'shan', \"shan't\", 'shouldn', \"shouldn't\", 'wasn', \"wasn't\", 'weren', \"weren't\", 'won', \"won't\", 'wouldn', \"wouldn't\", 'to', 'and', 'http', 'https', 'com', 'co', 'www']\n"
     ]
    }
   ],
   "source": [
    "stemmer = EnglishStemmer()\n",
    "stop_words = stopwords.words('english')\n",
    "my_stop_words='to and http https com co www'\n",
    "stop_words=stop_words+my_stop_words.split()\n",
    "print(stop_words)"
   ]
  },
  {
   "cell_type": "code",
   "execution_count": 13,
   "metadata": {},
   "outputs": [],
   "source": [
    "def preprocess(_df):\n",
    "    _df['text']=_df['text'].apply(lambda tweet:str(tweet).lower() if str(tweet).count('#')<=3 else '')\n",
    "    _df['text']=_df['text'].apply(lambda tweet:re.sub('[^ ]+\\.[^ ]+','',tweet))\n",
    "#     _df['text']=_df['text'].apply(lambda tweet:re.sub('#[^ ]+','',tweet))\n",
    "    _df['text']=_df['text'].apply(lambda tweet:re.sub('[^a-zA-Z0-9.!? ]',' ',(tweet)))\n",
    "    _df['text']=_df['text'].apply(lambda tweet:' '.join([word for word in tweet.strip().split() if word not in stop_words]))\n",
    "    _df['text']=_df['text'].apply(lambda tweet:stemmer.stem(tweet.strip()))\n",
    "    return _df"
   ]
  },
  {
   "cell_type": "markdown",
   "metadata": {},
   "source": [
    "### Load Saved Model"
   ]
  },
  {
   "cell_type": "code",
   "execution_count": 14,
   "metadata": {},
   "outputs": [],
   "source": [
    "classifier = pickle.load(open('saved_classifier/good_bad_classifier.sav', 'rb'))"
   ]
  },
  {
   "cell_type": "code",
   "execution_count": 15,
   "metadata": {},
   "outputs": [
    {
     "data": {
      "text/html": [
       "<div>\n",
       "<style scoped>\n",
       "    .dataframe tbody tr th:only-of-type {\n",
       "        vertical-align: middle;\n",
       "    }\n",
       "\n",
       "    .dataframe tbody tr th {\n",
       "        vertical-align: top;\n",
       "    }\n",
       "\n",
       "    .dataframe thead th {\n",
       "        text-align: right;\n",
       "    }\n",
       "</style>\n",
       "<table border=\"1\" class=\"dataframe\">\n",
       "  <thead>\n",
       "    <tr style=\"text-align: right;\">\n",
       "      <th></th>\n",
       "      <th>text</th>\n",
       "    </tr>\n",
       "  </thead>\n",
       "  <tbody>\n",
       "    <tr>\n",
       "      <th>0</th>\n",
       "      <td>coinbase hires silicon valley dealmaker firm e...</td>\n",
       "    </tr>\n",
       "    <tr>\n",
       "      <th>1</th>\n",
       "      <td>rt btctn 80 000 new merchants europe gain opti...</td>\n",
       "    </tr>\n",
       "    <tr>\n",
       "      <th>2</th>\n",
       "      <td>cboe recommends sec allows bitcoin exchange tr...</td>\n",
       "    </tr>\n",
       "    <tr>\n",
       "      <th>3</th>\n",
       "      <td>rt cryptonewswire g20 agrees monitor cryptocur...</td>\n",
       "    </tr>\n",
       "    <tr>\n",
       "      <th>4</th>\n",
       "      <td>cboe nudges sec allow bitcoin etfs new lett</td>\n",
       "    </tr>\n",
       "  </tbody>\n",
       "</table>\n",
       "</div>"
      ],
      "text/plain": [
       "                                                text\n",
       "0  coinbase hires silicon valley dealmaker firm e...\n",
       "1  rt btctn 80 000 new merchants europe gain opti...\n",
       "2  cboe recommends sec allows bitcoin exchange tr...\n",
       "3  rt cryptonewswire g20 agrees monitor cryptocur...\n",
       "4        cboe nudges sec allow bitcoin etfs new lett"
      ]
     },
     "execution_count": 15,
     "metadata": {},
     "output_type": "execute_result"
    }
   ],
   "source": [
    "new_text=[\"\"\"Coinbase   Hires Silicon Valley Dealmaker as Firm Explores Potential Acquisitions - CCN: Bitcoin, Ethereum, ICO, Blockchain & Cryptocurrency News http://dlvr.it/QJwjKW pic.twitter.com/T8JLIwUsew\"\"\",\n",
    "          \"\"\"RT @BTCTN: 80,000 New Merchants in Europe Gain Option to Accept Crypto https://t.co/s8X21LiIGz #Bitcoin https://t.co/fkFPhqrSc3\"\"\",\n",
    "         \"\"\"CBOE Recommends That The SEC Allows Bitcoin Exchange-Traded-Funds https://t.co/NxbzcJMbs2 #bitcoin #news… https://t.co/vLAjwJNykK\"\"\",\n",
    "          \"\"\"RT @CryptoNewswire: G20 agrees to 'monitor' cryptocurrencies but no action yet - https://t.co/0edeUekw2u #finance #fintech #cryptocurrency\"\"\",\n",
    "          \"\"\"CBOE Nudges SEC to Allow Bitcoin ETFs in New Letter\"\"\"\n",
    "         ]\n",
    "new_text=preprocess(pd.DataFrame({'text':new_text}))\n",
    "new_text=new_text[new_text['text']!='']\n",
    "new_text"
   ]
  },
  {
   "cell_type": "code",
   "execution_count": 16,
   "metadata": {},
   "outputs": [
    {
     "name": "stdout",
     "output_type": "stream",
     "text": [
      "[[1 0 0 0]\n",
      " [1 0 0 0]\n",
      " [1 0 0 0]\n",
      " [1 0 0 0]\n",
      " [1 0 0 0]]\n"
     ]
    },
    {
     "data": {
      "text/plain": [
       "array([[9.39474442e-01, 7.78418782e-05, 6.66474964e-03, 1.02518033e-02],\n",
       "       [1.00000000e+00, 7.08791504e-09, 2.38850182e-05, 2.61501068e-08],\n",
       "       [9.99669737e-01, 5.85358974e-03, 6.53939959e-05, 2.14971859e-04],\n",
       "       [7.25005172e-01, 3.19989617e-03, 7.08659031e-04, 1.28317112e-01],\n",
       "       [9.97487330e-01, 4.11693115e-06, 2.58348936e-03, 2.37358449e-03]])"
      ]
     },
     "execution_count": 16,
     "metadata": {},
     "output_type": "execute_result"
    }
   ],
   "source": [
    "print( classifier.predict(new_text['text']))\n",
    "classifier.predict_proba(new_text['text'])"
   ]
  },
  {
   "cell_type": "markdown",
   "metadata": {},
   "source": [
    "### Load Dataset"
   ]
  },
  {
   "cell_type": "code",
   "execution_count": 7,
   "metadata": {},
   "outputs": [
    {
     "name": "stdout",
     "output_type": "stream",
     "text": [
      "CPU times: user 11 ms, sys: 3.99 ms, total: 15 ms\n",
      "Wall time: 16.2 ms\n",
      "(538, 11)\n"
     ]
    },
    {
     "data": {
      "text/html": [
       "<div>\n",
       "<style scoped>\n",
       "    .dataframe tbody tr th:only-of-type {\n",
       "        vertical-align: middle;\n",
       "    }\n",
       "\n",
       "    .dataframe tbody tr th {\n",
       "        vertical-align: top;\n",
       "    }\n",
       "\n",
       "    .dataframe thead th {\n",
       "        text-align: right;\n",
       "    }\n",
       "</style>\n",
       "<table border=\"1\" class=\"dataframe\">\n",
       "  <thead>\n",
       "    <tr style=\"text-align: right;\">\n",
       "      <th></th>\n",
       "      <th>fullname</th>\n",
       "      <th>html</th>\n",
       "      <th>id</th>\n",
       "      <th>likes</th>\n",
       "      <th>replies</th>\n",
       "      <th>retweets</th>\n",
       "      <th>text</th>\n",
       "      <th>timestamp</th>\n",
       "      <th>url</th>\n",
       "      <th>user</th>\n",
       "      <th>cluster</th>\n",
       "    </tr>\n",
       "  </thead>\n",
       "  <tbody>\n",
       "    <tr>\n",
       "      <th>0</th>\n",
       "      <td>/r/btc</td>\n",
       "      <td>&lt;p class=\"TweetTextSize js-tweet-text tweet-te...</td>\n",
       "      <td>845355893780832256</td>\n",
       "      <td>0</td>\n",
       "      <td>0.0</td>\n",
       "      <td>0.0</td>\n",
       "      <td>Russia, Japan Consider Joint Digital Currency ...</td>\n",
       "      <td>1490363725</td>\n",
       "      <td>/btc_reddit/status/845355893780832256</td>\n",
       "      <td>btc_reddit</td>\n",
       "      <td>0</td>\n",
       "    </tr>\n",
       "    <tr>\n",
       "      <th>1</th>\n",
       "      <td>/r/btc</td>\n",
       "      <td>&lt;p class=\"TweetTextSize js-tweet-text tweet-te...</td>\n",
       "      <td>845355894560968705</td>\n",
       "      <td>0</td>\n",
       "      <td>0.0</td>\n",
       "      <td>0.0</td>\n",
       "      <td>Vault 7 Volume II: Apple Patch Claims âDupli...</td>\n",
       "      <td>1490363725</td>\n",
       "      <td>/btc_reddit/status/845355894560968705</td>\n",
       "      <td>btc_reddit</td>\n",
       "      <td>4</td>\n",
       "    </tr>\n",
       "    <tr>\n",
       "      <th>2</th>\n",
       "      <td>/r/btc</td>\n",
       "      <td>&lt;p class=\"TweetTextSize js-tweet-text tweet-te...</td>\n",
       "      <td>845355896209395712</td>\n",
       "      <td>0</td>\n",
       "      <td>0.0</td>\n",
       "      <td>1.0</td>\n",
       "      <td>Chinese Bitcoin Exchange BTCChina Unveils New ...</td>\n",
       "      <td>1490363726</td>\n",
       "      <td>/btc_reddit/status/845355896209395712</td>\n",
       "      <td>btc_reddit</td>\n",
       "      <td>3</td>\n",
       "    </tr>\n",
       "    <tr>\n",
       "      <th>3</th>\n",
       "      <td>Takako Yamakura</td>\n",
       "      <td>&lt;p class=\"TweetTextSize js-tweet-text tweet-te...</td>\n",
       "      <td>845356066674216961</td>\n",
       "      <td>1</td>\n",
       "      <td>0.0</td>\n",
       "      <td>0.0</td>\n",
       "      <td>Bitcoin still some growing up to do http://buf...</td>\n",
       "      <td>1490363766</td>\n",
       "      <td>/Takako_inNY/status/845356066674216961</td>\n",
       "      <td>Takako_inNY</td>\n",
       "      <td>3</td>\n",
       "    </tr>\n",
       "    <tr>\n",
       "      <th>4</th>\n",
       "      <td>CryptoNewswire  🌐</td>\n",
       "      <td>&lt;p class=\"TweetTextSize js-tweet-text tweet-te...</td>\n",
       "      <td>845356078997037056</td>\n",
       "      <td>0</td>\n",
       "      <td>0.0</td>\n",
       "      <td>0.0</td>\n",
       "      <td>Markets Update: Bitcoins Price and Market Shar...</td>\n",
       "      <td>1490363769</td>\n",
       "      <td>/CryptoNewswire/status/845356078997037056</td>\n",
       "      <td>CryptoNewswire</td>\n",
       "      <td>2</td>\n",
       "    </tr>\n",
       "  </tbody>\n",
       "</table>\n",
       "</div>"
      ],
      "text/plain": [
       "            fullname                                               html  \\\n",
       "0             /r/btc  <p class=\"TweetTextSize js-tweet-text tweet-te...   \n",
       "1             /r/btc  <p class=\"TweetTextSize js-tweet-text tweet-te...   \n",
       "2             /r/btc  <p class=\"TweetTextSize js-tweet-text tweet-te...   \n",
       "3    Takako Yamakura  <p class=\"TweetTextSize js-tweet-text tweet-te...   \n",
       "4  CryptoNewswire  🌐  <p class=\"TweetTextSize js-tweet-text tweet-te...   \n",
       "\n",
       "                   id  likes  replies  retweets  \\\n",
       "0  845355893780832256      0      0.0       0.0   \n",
       "1  845355894560968705      0      0.0       0.0   \n",
       "2  845355896209395712      0      0.0       1.0   \n",
       "3  845356066674216961      1      0.0       0.0   \n",
       "4  845356078997037056      0      0.0       0.0   \n",
       "\n",
       "                                                text   timestamp  \\\n",
       "0  Russia, Japan Consider Joint Digital Currency ...  1490363725   \n",
       "1  Vault 7 Volume II: Apple Patch Claims âDupli...  1490363725   \n",
       "2  Chinese Bitcoin Exchange BTCChina Unveils New ...  1490363726   \n",
       "3  Bitcoin still some growing up to do http://buf...  1490363766   \n",
       "4  Markets Update: Bitcoins Price and Market Shar...  1490363769   \n",
       "\n",
       "                                         url            user  cluster  \n",
       "0      /btc_reddit/status/845355893780832256      btc_reddit        0  \n",
       "1      /btc_reddit/status/845355894560968705      btc_reddit        4  \n",
       "2      /btc_reddit/status/845355896209395712      btc_reddit        3  \n",
       "3     /Takako_inNY/status/845356066674216961     Takako_inNY        3  \n",
       "4  /CryptoNewswire/status/845356078997037056  CryptoNewswire        2  "
      ]
     },
     "execution_count": 7,
     "metadata": {},
     "output_type": "execute_result"
    }
   ],
   "source": [
    "%time df=pd.read_csv('dataset/csv/clustered_dataset/cluster/1490363725.csv',encoding = 'utf8')\n",
    "print(df.shape)\n",
    "df.head()"
   ]
  },
  {
   "cell_type": "markdown",
   "metadata": {},
   "source": [
    "### Preprocess"
   ]
  },
  {
   "cell_type": "code",
   "execution_count": 8,
   "metadata": {},
   "outputs": [
    {
     "name": "stdout",
     "output_type": "stream",
     "text": [
      "(538, 11)\n",
      "(538, 11)\n"
     ]
    },
    {
     "data": {
      "text/html": [
       "<div>\n",
       "<style scoped>\n",
       "    .dataframe tbody tr th:only-of-type {\n",
       "        vertical-align: middle;\n",
       "    }\n",
       "\n",
       "    .dataframe tbody tr th {\n",
       "        vertical-align: top;\n",
       "    }\n",
       "\n",
       "    .dataframe thead th {\n",
       "        text-align: right;\n",
       "    }\n",
       "</style>\n",
       "<table border=\"1\" class=\"dataframe\">\n",
       "  <thead>\n",
       "    <tr style=\"text-align: right;\">\n",
       "      <th></th>\n",
       "      <th>fullname</th>\n",
       "      <th>html</th>\n",
       "      <th>id</th>\n",
       "      <th>likes</th>\n",
       "      <th>replies</th>\n",
       "      <th>retweets</th>\n",
       "      <th>text</th>\n",
       "      <th>timestamp</th>\n",
       "      <th>url</th>\n",
       "      <th>user</th>\n",
       "      <th>cluster</th>\n",
       "    </tr>\n",
       "  </thead>\n",
       "  <tbody>\n",
       "    <tr>\n",
       "      <th>533</th>\n",
       "      <td>AllThingsAltBitcoins</td>\n",
       "      <td>&lt;p class=\"TweetTextSize js-tweet-text tweet-te...</td>\n",
       "      <td>845423277854150657</td>\n",
       "      <td>1</td>\n",
       "      <td>0.0</td>\n",
       "      <td>0.0</td>\n",
       "      <td>bitcoin price falling still hold</td>\n",
       "      <td>1490379791</td>\n",
       "      <td>/alt_bit_coins/status/845423277854150657</td>\n",
       "      <td>alt_bit_coins</td>\n",
       "      <td>2</td>\n",
       "    </tr>\n",
       "    <tr>\n",
       "      <th>534</th>\n",
       "      <td>🐯 Michael Trooder</td>\n",
       "      <td>&lt;p class=\"TweetTextSize js-tweet-text tweet-te...</td>\n",
       "      <td>845423421731201024</td>\n",
       "      <td>1</td>\n",
       "      <td>0.0</td>\n",
       "      <td>0.0</td>\n",
       "      <td>last 10 days altcoin market cap risen 4 billio...</td>\n",
       "      <td>1490379825</td>\n",
       "      <td>/cryptocurrency0/status/845423421731201024</td>\n",
       "      <td>cryptocurrency0</td>\n",
       "      <td>2</td>\n",
       "    </tr>\n",
       "    <tr>\n",
       "      <th>535</th>\n",
       "      <td>Emma Godoy</td>\n",
       "      <td>&lt;p class=\"TweetTextSize js-tweet-text tweet-te...</td>\n",
       "      <td>845424147320705024</td>\n",
       "      <td>0</td>\n",
       "      <td>1.0</td>\n",
       "      <td>1.0</td>\n",
       "      <td>economia china bitcoin</td>\n",
       "      <td>1490379998</td>\n",
       "      <td>/Neverfransis/status/845424147320705024</td>\n",
       "      <td>Neverfransis</td>\n",
       "      <td>3</td>\n",
       "    </tr>\n",
       "    <tr>\n",
       "      <th>536</th>\n",
       "      <td>CoinDesk</td>\n",
       "      <td>&lt;p class=\"TweetTextSize js-tweet-text tweet-te...</td>\n",
       "      <td>845424752898560002</td>\n",
       "      <td>28</td>\n",
       "      <td>7.0</td>\n",
       "      <td>41.0</td>\n",
       "      <td>latest bitcoin price index usd</td>\n",
       "      <td>1490380142</td>\n",
       "      <td>/coindesk/status/845424752898560002</td>\n",
       "      <td>coindesk</td>\n",
       "      <td>2</td>\n",
       "    </tr>\n",
       "    <tr>\n",
       "      <th>537</th>\n",
       "      <td>[ Romano ]</td>\n",
       "      <td>&lt;p class=\"TweetTextSize js-tweet-text tweet-te...</td>\n",
       "      <td>845424773912018945</td>\n",
       "      <td>18</td>\n",
       "      <td>5.0</td>\n",
       "      <td>6.0</td>\n",
       "      <td>bitcoin could bounce again.</td>\n",
       "      <td>1490380147</td>\n",
       "      <td>/RNR_0/status/845424773912018945</td>\n",
       "      <td>RNR_0</td>\n",
       "      <td>3</td>\n",
       "    </tr>\n",
       "  </tbody>\n",
       "</table>\n",
       "</div>"
      ],
      "text/plain": [
       "                 fullname                                               html  \\\n",
       "533  AllThingsAltBitcoins  <p class=\"TweetTextSize js-tweet-text tweet-te...   \n",
       "534     🐯 Michael Trooder  <p class=\"TweetTextSize js-tweet-text tweet-te...   \n",
       "535            Emma Godoy  <p class=\"TweetTextSize js-tweet-text tweet-te...   \n",
       "536              CoinDesk  <p class=\"TweetTextSize js-tweet-text tweet-te...   \n",
       "537            [ Romano ]  <p class=\"TweetTextSize js-tweet-text tweet-te...   \n",
       "\n",
       "                     id  likes  replies  retweets  \\\n",
       "533  845423277854150657      1      0.0       0.0   \n",
       "534  845423421731201024      1      0.0       0.0   \n",
       "535  845424147320705024      0      1.0       1.0   \n",
       "536  845424752898560002     28      7.0      41.0   \n",
       "537  845424773912018945     18      5.0       6.0   \n",
       "\n",
       "                                                  text   timestamp  \\\n",
       "533                   bitcoin price falling still hold  1490379791   \n",
       "534  last 10 days altcoin market cap risen 4 billio...  1490379825   \n",
       "535                             economia china bitcoin  1490379998   \n",
       "536                     latest bitcoin price index usd  1490380142   \n",
       "537                        bitcoin could bounce again.  1490380147   \n",
       "\n",
       "                                            url             user  cluster  \n",
       "533    /alt_bit_coins/status/845423277854150657    alt_bit_coins        2  \n",
       "534  /cryptocurrency0/status/845423421731201024  cryptocurrency0        2  \n",
       "535     /Neverfransis/status/845424147320705024     Neverfransis        3  \n",
       "536         /coindesk/status/845424752898560002         coindesk        2  \n",
       "537            /RNR_0/status/845424773912018945            RNR_0        3  "
      ]
     },
     "execution_count": 8,
     "metadata": {},
     "output_type": "execute_result"
    }
   ],
   "source": [
    "p_df=preprocess(df.copy())\n",
    "print(p_df.shape)\n",
    "p_df=p_df[p_df['text']!='']\n",
    "print(p_df.shape)\n",
    "p_df.tail()"
   ]
  },
  {
   "cell_type": "markdown",
   "metadata": {},
   "source": [
    "### Classification "
   ]
  },
  {
   "cell_type": "code",
   "execution_count": 9,
   "metadata": {},
   "outputs": [
    {
     "name": "stdout",
     "output_type": "stream",
     "text": [
      "CPU times: user 17.8 ms, sys: 1.8 ms, total: 19.6 ms\n",
      "Wall time: 18.1 ms\n",
      "CPU times: user 18.5 ms, sys: 389 µs, total: 18.9 ms\n",
      "Wall time: 18.5 ms\n"
     ]
    }
   ],
   "source": [
    "%time prediction=classifier.predict(p_df['text'])\n",
    "%time probability=classifier.predict_proba(p_df['text'])"
   ]
  },
  {
   "cell_type": "markdown",
   "metadata": {},
   "source": [
    "### Save filtered data"
   ]
  },
  {
   "cell_type": "code",
   "execution_count": 10,
   "metadata": {},
   "outputs": [
    {
     "ename": "ValueError",
     "evalue": "The truth value of an array with more than one element is ambiguous. Use a.any() or a.all()",
     "output_type": "error",
     "traceback": [
      "\u001b[0;31m---------------------------------------------------------------------------\u001b[0m",
      "\u001b[0;31mValueError\u001b[0m                                Traceback (most recent call last)",
      "\u001b[0;32m<ipython-input-10-53633feb5e52>\u001b[0m in \u001b[0;36m<module>\u001b[0;34m()\u001b[0m\n\u001b[0;32m----> 1\u001b[0;31m \u001b[0mgood_tweet_index\u001b[0m\u001b[0;34m=\u001b[0m\u001b[0;34m[\u001b[0m\u001b[0mi\u001b[0m \u001b[0;32mfor\u001b[0m \u001b[0mi\u001b[0m\u001b[0;34m,\u001b[0m\u001b[0mval\u001b[0m \u001b[0;32min\u001b[0m \u001b[0menumerate\u001b[0m\u001b[0;34m(\u001b[0m\u001b[0mprediction\u001b[0m\u001b[0;34m)\u001b[0m \u001b[0;32mif\u001b[0m \u001b[0mval\u001b[0m\u001b[0;34m==\u001b[0m\u001b[0;36m1\u001b[0m\u001b[0;34m]\u001b[0m\u001b[0;34m\u001b[0m\u001b[0m\n\u001b[0m\u001b[1;32m      2\u001b[0m \u001b[0mgood_filtered_df\u001b[0m \u001b[0;34m=\u001b[0m \u001b[0mp_df\u001b[0m\u001b[0;34m.\u001b[0m\u001b[0miloc\u001b[0m\u001b[0;34m[\u001b[0m\u001b[0mgood_tweet_index\u001b[0m\u001b[0;34m]\u001b[0m\u001b[0;34m\u001b[0m\u001b[0m\n\u001b[1;32m      3\u001b[0m \u001b[0mgood_actual_df\u001b[0m \u001b[0;34m=\u001b[0m \u001b[0mdf\u001b[0m\u001b[0;34m.\u001b[0m\u001b[0miloc\u001b[0m\u001b[0;34m[\u001b[0m\u001b[0mgood_filtered_df\u001b[0m\u001b[0;34m.\u001b[0m\u001b[0mindex\u001b[0m\u001b[0;34m]\u001b[0m\u001b[0;34m\u001b[0m\u001b[0m\n\u001b[1;32m      4\u001b[0m \u001b[0mgood_actual_df\u001b[0m\u001b[0;34m.\u001b[0m\u001b[0mto_csv\u001b[0m\u001b[0;34m(\u001b[0m\u001b[0;34m'dataset/csv/good_bad/good_filtered.csv'\u001b[0m\u001b[0;34m,\u001b[0m \u001b[0msep\u001b[0m\u001b[0;34m=\u001b[0m\u001b[0;34m','\u001b[0m\u001b[0;34m,\u001b[0m \u001b[0mindex\u001b[0m\u001b[0;34m=\u001b[0m\u001b[0;32mFalse\u001b[0m\u001b[0;34m)\u001b[0m\u001b[0;34m\u001b[0m\u001b[0m\n\u001b[1;32m      5\u001b[0m \u001b[0mgood_actual_df\u001b[0m\u001b[0;34m.\u001b[0m\u001b[0mtail\u001b[0m\u001b[0;34m(\u001b[0m\u001b[0;34m)\u001b[0m\u001b[0;34m\u001b[0m\u001b[0m\n",
      "\u001b[0;32m<ipython-input-10-53633feb5e52>\u001b[0m in \u001b[0;36m<listcomp>\u001b[0;34m(.0)\u001b[0m\n\u001b[0;32m----> 1\u001b[0;31m \u001b[0mgood_tweet_index\u001b[0m\u001b[0;34m=\u001b[0m\u001b[0;34m[\u001b[0m\u001b[0mi\u001b[0m \u001b[0;32mfor\u001b[0m \u001b[0mi\u001b[0m\u001b[0;34m,\u001b[0m\u001b[0mval\u001b[0m \u001b[0;32min\u001b[0m \u001b[0menumerate\u001b[0m\u001b[0;34m(\u001b[0m\u001b[0mprediction\u001b[0m\u001b[0;34m)\u001b[0m \u001b[0;32mif\u001b[0m \u001b[0mval\u001b[0m\u001b[0;34m==\u001b[0m\u001b[0;36m1\u001b[0m\u001b[0;34m]\u001b[0m\u001b[0;34m\u001b[0m\u001b[0m\n\u001b[0m\u001b[1;32m      2\u001b[0m \u001b[0mgood_filtered_df\u001b[0m \u001b[0;34m=\u001b[0m \u001b[0mp_df\u001b[0m\u001b[0;34m.\u001b[0m\u001b[0miloc\u001b[0m\u001b[0;34m[\u001b[0m\u001b[0mgood_tweet_index\u001b[0m\u001b[0;34m]\u001b[0m\u001b[0;34m\u001b[0m\u001b[0m\n\u001b[1;32m      3\u001b[0m \u001b[0mgood_actual_df\u001b[0m \u001b[0;34m=\u001b[0m \u001b[0mdf\u001b[0m\u001b[0;34m.\u001b[0m\u001b[0miloc\u001b[0m\u001b[0;34m[\u001b[0m\u001b[0mgood_filtered_df\u001b[0m\u001b[0;34m.\u001b[0m\u001b[0mindex\u001b[0m\u001b[0;34m]\u001b[0m\u001b[0;34m\u001b[0m\u001b[0m\n\u001b[1;32m      4\u001b[0m \u001b[0mgood_actual_df\u001b[0m\u001b[0;34m.\u001b[0m\u001b[0mto_csv\u001b[0m\u001b[0;34m(\u001b[0m\u001b[0;34m'dataset/csv/good_bad/good_filtered.csv'\u001b[0m\u001b[0;34m,\u001b[0m \u001b[0msep\u001b[0m\u001b[0;34m=\u001b[0m\u001b[0;34m','\u001b[0m\u001b[0;34m,\u001b[0m \u001b[0mindex\u001b[0m\u001b[0;34m=\u001b[0m\u001b[0;32mFalse\u001b[0m\u001b[0;34m)\u001b[0m\u001b[0;34m\u001b[0m\u001b[0m\n\u001b[1;32m      5\u001b[0m \u001b[0mgood_actual_df\u001b[0m\u001b[0;34m.\u001b[0m\u001b[0mtail\u001b[0m\u001b[0;34m(\u001b[0m\u001b[0;34m)\u001b[0m\u001b[0;34m\u001b[0m\u001b[0m\n",
      "\u001b[0;31mValueError\u001b[0m: The truth value of an array with more than one element is ambiguous. Use a.any() or a.all()"
     ]
    }
   ],
   "source": [
    "good_tweet_index=[i for i,val in enumerate(prediction) if val==1]\n",
    "good_filtered_df = p_df.iloc[good_tweet_index]\n",
    "good_actual_df = df.iloc[good_filtered_df.index]\n",
    "good_actual_df.to_csv('dataset/csv/good_bad/good_filtered.csv', sep=',', index=False)\n",
    "good_actual_df.tail()"
   ]
  },
  {
   "cell_type": "code",
   "execution_count": 46,
   "metadata": {},
   "outputs": [
    {
     "ename": "ValueError",
     "evalue": "The truth value of an array with more than one element is ambiguous. Use a.any() or a.all()",
     "output_type": "error",
     "traceback": [
      "\u001b[0;31m---------------------------------------------------------------------------\u001b[0m",
      "\u001b[0;31mValueError\u001b[0m                                Traceback (most recent call last)",
      "\u001b[0;32m<ipython-input-46-7d7abd4fa5eb>\u001b[0m in \u001b[0;36m<module>\u001b[0;34m()\u001b[0m\n\u001b[0;32m----> 1\u001b[0;31m \u001b[0mbad_tweet_index\u001b[0m\u001b[0;34m=\u001b[0m\u001b[0;34m[\u001b[0m\u001b[0mi\u001b[0m \u001b[0;32mfor\u001b[0m \u001b[0mi\u001b[0m\u001b[0;34m,\u001b[0m\u001b[0mval\u001b[0m \u001b[0;32min\u001b[0m \u001b[0menumerate\u001b[0m\u001b[0;34m(\u001b[0m\u001b[0mprediction\u001b[0m\u001b[0;34m)\u001b[0m \u001b[0;32mif\u001b[0m \u001b[0mval\u001b[0m\u001b[0;34m==\u001b[0m\u001b[0;36m0\u001b[0m\u001b[0;34m]\u001b[0m\u001b[0;34m\u001b[0m\u001b[0m\n\u001b[0m\u001b[1;32m      2\u001b[0m \u001b[0mbad_filtered_df\u001b[0m \u001b[0;34m=\u001b[0m \u001b[0mp_df\u001b[0m\u001b[0;34m.\u001b[0m\u001b[0miloc\u001b[0m\u001b[0;34m[\u001b[0m\u001b[0mbad_tweet_index\u001b[0m\u001b[0;34m]\u001b[0m\u001b[0;34m\u001b[0m\u001b[0m\n\u001b[1;32m      3\u001b[0m \u001b[0mbad_actual_df\u001b[0m \u001b[0;34m=\u001b[0m \u001b[0mdf\u001b[0m\u001b[0;34m.\u001b[0m\u001b[0miloc\u001b[0m\u001b[0;34m[\u001b[0m\u001b[0mbad_filtered_df\u001b[0m\u001b[0;34m.\u001b[0m\u001b[0mindex\u001b[0m\u001b[0;34m]\u001b[0m\u001b[0;34m\u001b[0m\u001b[0m\n\u001b[1;32m      4\u001b[0m \u001b[0mbad_actual_df\u001b[0m\u001b[0;34m.\u001b[0m\u001b[0mto_csv\u001b[0m\u001b[0;34m(\u001b[0m\u001b[0;34m'dataset/csv/good_bad/bad_filtered.csv'\u001b[0m\u001b[0;34m,\u001b[0m \u001b[0msep\u001b[0m\u001b[0;34m=\u001b[0m\u001b[0;34m','\u001b[0m\u001b[0;34m,\u001b[0m \u001b[0mindex\u001b[0m\u001b[0;34m=\u001b[0m\u001b[0;32mFalse\u001b[0m\u001b[0;34m)\u001b[0m\u001b[0;34m\u001b[0m\u001b[0m\n\u001b[1;32m      5\u001b[0m \u001b[0mbad_actual_df\u001b[0m\u001b[0;34m.\u001b[0m\u001b[0mtail\u001b[0m\u001b[0;34m(\u001b[0m\u001b[0;34m)\u001b[0m\u001b[0;34m\u001b[0m\u001b[0m\n",
      "\u001b[0;32m<ipython-input-46-7d7abd4fa5eb>\u001b[0m in \u001b[0;36m<listcomp>\u001b[0;34m(.0)\u001b[0m\n\u001b[0;32m----> 1\u001b[0;31m \u001b[0mbad_tweet_index\u001b[0m\u001b[0;34m=\u001b[0m\u001b[0;34m[\u001b[0m\u001b[0mi\u001b[0m \u001b[0;32mfor\u001b[0m \u001b[0mi\u001b[0m\u001b[0;34m,\u001b[0m\u001b[0mval\u001b[0m \u001b[0;32min\u001b[0m \u001b[0menumerate\u001b[0m\u001b[0;34m(\u001b[0m\u001b[0mprediction\u001b[0m\u001b[0;34m)\u001b[0m \u001b[0;32mif\u001b[0m \u001b[0mval\u001b[0m\u001b[0;34m==\u001b[0m\u001b[0;36m0\u001b[0m\u001b[0;34m]\u001b[0m\u001b[0;34m\u001b[0m\u001b[0m\n\u001b[0m\u001b[1;32m      2\u001b[0m \u001b[0mbad_filtered_df\u001b[0m \u001b[0;34m=\u001b[0m \u001b[0mp_df\u001b[0m\u001b[0;34m.\u001b[0m\u001b[0miloc\u001b[0m\u001b[0;34m[\u001b[0m\u001b[0mbad_tweet_index\u001b[0m\u001b[0;34m]\u001b[0m\u001b[0;34m\u001b[0m\u001b[0m\n\u001b[1;32m      3\u001b[0m \u001b[0mbad_actual_df\u001b[0m \u001b[0;34m=\u001b[0m \u001b[0mdf\u001b[0m\u001b[0;34m.\u001b[0m\u001b[0miloc\u001b[0m\u001b[0;34m[\u001b[0m\u001b[0mbad_filtered_df\u001b[0m\u001b[0;34m.\u001b[0m\u001b[0mindex\u001b[0m\u001b[0;34m]\u001b[0m\u001b[0;34m\u001b[0m\u001b[0m\n\u001b[1;32m      4\u001b[0m \u001b[0mbad_actual_df\u001b[0m\u001b[0;34m.\u001b[0m\u001b[0mto_csv\u001b[0m\u001b[0;34m(\u001b[0m\u001b[0;34m'dataset/csv/good_bad/bad_filtered.csv'\u001b[0m\u001b[0;34m,\u001b[0m \u001b[0msep\u001b[0m\u001b[0;34m=\u001b[0m\u001b[0;34m','\u001b[0m\u001b[0;34m,\u001b[0m \u001b[0mindex\u001b[0m\u001b[0;34m=\u001b[0m\u001b[0;32mFalse\u001b[0m\u001b[0;34m)\u001b[0m\u001b[0;34m\u001b[0m\u001b[0m\n\u001b[1;32m      5\u001b[0m \u001b[0mbad_actual_df\u001b[0m\u001b[0;34m.\u001b[0m\u001b[0mtail\u001b[0m\u001b[0;34m(\u001b[0m\u001b[0;34m)\u001b[0m\u001b[0;34m\u001b[0m\u001b[0m\n",
      "\u001b[0;31mValueError\u001b[0m: The truth value of an array with more than one element is ambiguous. Use a.any() or a.all()"
     ]
    }
   ],
   "source": [
    "bad_tweet_index=[i for i,val in enumerate(prediction) if val==0]\n",
    "bad_filtered_df = p_df.iloc[bad_tweet_index]\n",
    "bad_actual_df = df.iloc[bad_filtered_df.index]\n",
    "bad_actual_df.to_csv('dataset/csv/good_bad/bad_filtered.csv', sep=',', index=False)\n",
    "bad_actual_df.tail()"
   ]
  },
  {
   "cell_type": "markdown",
   "metadata": {},
   "source": [
    "## Sentiment Analysis"
   ]
  },
  {
   "cell_type": "code",
   "execution_count": 10,
   "metadata": {},
   "outputs": [
    {
     "name": "stdout",
     "output_type": "stream",
     "text": [
      "(193, 11) (105, 11)\n"
     ]
    }
   ],
   "source": [
    "proba_good_tweet_index=[]\n",
    "proba_bad_tweet_index=[]\n",
    "for i,row in enumerate(probability):\n",
    "    if row[0]>0.95: \n",
    "        proba_bad_tweet_index.append(i)\n",
    "    if row[1]>0.95:\n",
    "        proba_good_tweet_index.append(i)\n",
    "        \n",
    "proba_good_filtered_df=p_df.iloc[proba_good_tweet_index]\n",
    "proba_bad_filtered_df=p_df.iloc[proba_bad_tweet_index]\n",
    "\n",
    "proba_good_actual_df = df.iloc[proba_good_filtered_df.index]\n",
    "proba_bad_actual_df = df.iloc[proba_bad_filtered_df.index]\n",
    "\n",
    "proba_good_actual_df.to_csv('dataset/csv/good_bad/very_good_filtered.csv', sep=',', index=False)\n",
    "proba_bad_actual_df.to_csv('dataset/csv/good_bad/very_bad_filtered.csv', sep=',', index=False)\n",
    "\n",
    "print(proba_good_actual_df.shape,proba_bad_actual_df.shape)"
   ]
  },
  {
   "cell_type": "code",
   "execution_count": 11,
   "metadata": {},
   "outputs": [
    {
     "data": {
      "text/html": [
       "<div>\n",
       "<style scoped>\n",
       "    .dataframe tbody tr th:only-of-type {\n",
       "        vertical-align: middle;\n",
       "    }\n",
       "\n",
       "    .dataframe tbody tr th {\n",
       "        vertical-align: top;\n",
       "    }\n",
       "\n",
       "    .dataframe thead th {\n",
       "        text-align: right;\n",
       "    }\n",
       "</style>\n",
       "<table border=\"1\" class=\"dataframe\">\n",
       "  <thead>\n",
       "    <tr style=\"text-align: right;\">\n",
       "      <th></th>\n",
       "      <th>fullname</th>\n",
       "      <th>html</th>\n",
       "      <th>id</th>\n",
       "      <th>likes</th>\n",
       "      <th>replies</th>\n",
       "      <th>retweets</th>\n",
       "      <th>text</th>\n",
       "      <th>timestamp</th>\n",
       "      <th>url</th>\n",
       "      <th>user</th>\n",
       "      <th>cluster</th>\n",
       "    </tr>\n",
       "  </thead>\n",
       "  <tbody>\n",
       "    <tr>\n",
       "      <th>520</th>\n",
       "      <td>BitcoinAgile</td>\n",
       "      <td>&lt;p class=\"TweetTextSize js-tweet-text tweet-te...</td>\n",
       "      <td>845418804012367876</td>\n",
       "      <td>0</td>\n",
       "      <td>0.0</td>\n",
       "      <td>0.0</td>\n",
       "      <td>Report: Rise in #bitcoin Related Scams on Soci...</td>\n",
       "      <td>1490378724</td>\n",
       "      <td>/bitcoinagile/status/845418804012367876</td>\n",
       "      <td>bitcoinagile</td>\n",
       "      <td>3</td>\n",
       "    </tr>\n",
       "    <tr>\n",
       "      <th>524</th>\n",
       "      <td>AllThingsAltBitcoins</td>\n",
       "      <td>&lt;p class=\"TweetTextSize js-tweet-text tweet-te...</td>\n",
       "      <td>845419297241546752</td>\n",
       "      <td>0</td>\n",
       "      <td>0.0</td>\n",
       "      <td>0.0</td>\n",
       "      <td>Re: Bitcoin Classic developer admits it: block...</td>\n",
       "      <td>1490378842</td>\n",
       "      <td>/alt_bit_coins/status/845419297241546752</td>\n",
       "      <td>alt_bit_coins</td>\n",
       "      <td>3</td>\n",
       "    </tr>\n",
       "    <tr>\n",
       "      <th>525</th>\n",
       "      <td>AllThingsAltBitcoins</td>\n",
       "      <td>&lt;p class=\"TweetTextSize js-tweet-text tweet-te...</td>\n",
       "      <td>845419988559286273</td>\n",
       "      <td>1</td>\n",
       "      <td>0.0</td>\n",
       "      <td>0.0</td>\n",
       "      <td>Report: Rise in #bitcoin Related Scams on Soci...</td>\n",
       "      <td>1490379007</td>\n",
       "      <td>/alt_bit_coins/status/845419988559286273</td>\n",
       "      <td>alt_bit_coins</td>\n",
       "      <td>3</td>\n",
       "    </tr>\n",
       "    <tr>\n",
       "      <th>526</th>\n",
       "      <td>Cryptogeeks</td>\n",
       "      <td>&lt;p class=\"TweetTextSize js-tweet-text tweet-te...</td>\n",
       "      <td>845422049766072321</td>\n",
       "      <td>0</td>\n",
       "      <td>0.0</td>\n",
       "      <td>0.0</td>\n",
       "      <td>Bitcoin: When the price is falling but your st...</td>\n",
       "      <td>1490379498</td>\n",
       "      <td>/Cryptogeeks/status/845422049766072321</td>\n",
       "      <td>Cryptogeeks</td>\n",
       "      <td>2</td>\n",
       "    </tr>\n",
       "    <tr>\n",
       "      <th>533</th>\n",
       "      <td>AllThingsAltBitcoins</td>\n",
       "      <td>&lt;p class=\"TweetTextSize js-tweet-text tweet-te...</td>\n",
       "      <td>845423277854150657</td>\n",
       "      <td>1</td>\n",
       "      <td>0.0</td>\n",
       "      <td>0.0</td>\n",
       "      <td>Bitcoin: When the price is falling but your st...</td>\n",
       "      <td>1490379791</td>\n",
       "      <td>/alt_bit_coins/status/845423277854150657</td>\n",
       "      <td>alt_bit_coins</td>\n",
       "      <td>2</td>\n",
       "    </tr>\n",
       "  </tbody>\n",
       "</table>\n",
       "</div>"
      ],
      "text/plain": [
       "                 fullname                                               html  \\\n",
       "520          BitcoinAgile  <p class=\"TweetTextSize js-tweet-text tweet-te...   \n",
       "524  AllThingsAltBitcoins  <p class=\"TweetTextSize js-tweet-text tweet-te...   \n",
       "525  AllThingsAltBitcoins  <p class=\"TweetTextSize js-tweet-text tweet-te...   \n",
       "526           Cryptogeeks  <p class=\"TweetTextSize js-tweet-text tweet-te...   \n",
       "533  AllThingsAltBitcoins  <p class=\"TweetTextSize js-tweet-text tweet-te...   \n",
       "\n",
       "                     id  likes  replies  retweets  \\\n",
       "520  845418804012367876      0      0.0       0.0   \n",
       "524  845419297241546752      0      0.0       0.0   \n",
       "525  845419988559286273      1      0.0       0.0   \n",
       "526  845422049766072321      0      0.0       0.0   \n",
       "533  845423277854150657      1      0.0       0.0   \n",
       "\n",
       "                                                  text   timestamp  \\\n",
       "520  Report: Rise in #bitcoin Related Scams on Soci...  1490378724   \n",
       "524  Re: Bitcoin Classic developer admits it: block...  1490378842   \n",
       "525  Report: Rise in #bitcoin Related Scams on Soci...  1490379007   \n",
       "526  Bitcoin: When the price is falling but your st...  1490379498   \n",
       "533  Bitcoin: When the price is falling but your st...  1490379791   \n",
       "\n",
       "                                          url           user  cluster  \n",
       "520   /bitcoinagile/status/845418804012367876   bitcoinagile        3  \n",
       "524  /alt_bit_coins/status/845419297241546752  alt_bit_coins        3  \n",
       "525  /alt_bit_coins/status/845419988559286273  alt_bit_coins        3  \n",
       "526    /Cryptogeeks/status/845422049766072321    Cryptogeeks        2  \n",
       "533  /alt_bit_coins/status/845423277854150657  alt_bit_coins        2  "
      ]
     },
     "execution_count": 11,
     "metadata": {},
     "output_type": "execute_result"
    }
   ],
   "source": [
    "proba_good_actual_df.tail()"
   ]
  },
  {
   "cell_type": "code",
   "execution_count": 12,
   "metadata": {},
   "outputs": [
    {
     "data": {
      "text/html": [
       "<div>\n",
       "<style scoped>\n",
       "    .dataframe tbody tr th:only-of-type {\n",
       "        vertical-align: middle;\n",
       "    }\n",
       "\n",
       "    .dataframe tbody tr th {\n",
       "        vertical-align: top;\n",
       "    }\n",
       "\n",
       "    .dataframe thead th {\n",
       "        text-align: right;\n",
       "    }\n",
       "</style>\n",
       "<table border=\"1\" class=\"dataframe\">\n",
       "  <thead>\n",
       "    <tr style=\"text-align: right;\">\n",
       "      <th></th>\n",
       "      <th>fullname</th>\n",
       "      <th>html</th>\n",
       "      <th>id</th>\n",
       "      <th>likes</th>\n",
       "      <th>replies</th>\n",
       "      <th>retweets</th>\n",
       "      <th>text</th>\n",
       "      <th>timestamp</th>\n",
       "      <th>url</th>\n",
       "      <th>user</th>\n",
       "      <th>cluster</th>\n",
       "    </tr>\n",
       "  </thead>\n",
       "  <tbody>\n",
       "    <tr>\n",
       "      <th>500</th>\n",
       "      <td>∞</td>\n",
       "      <td>&lt;p class=\"TweetTextSize js-tweet-text tweet-te...</td>\n",
       "      <td>845415639837749248</td>\n",
       "      <td>0</td>\n",
       "      <td>1.0</td>\n",
       "      <td>0.0</td>\n",
       "      <td>I honestly believe ETH and BTC will move oppos...</td>\n",
       "      <td>1490377970</td>\n",
       "      <td>/DailyBrainGame/status/845415639837749248</td>\n",
       "      <td>DailyBrainGame</td>\n",
       "      <td>2</td>\n",
       "    </tr>\n",
       "    <tr>\n",
       "      <th>511</th>\n",
       "      <td>TradeGoX</td>\n",
       "      <td>&lt;p class=\"TweetTextSize js-tweet-text tweet-te...</td>\n",
       "      <td>845417212013768705</td>\n",
       "      <td>0</td>\n",
       "      <td>0.0</td>\n",
       "      <td>0.0</td>\n",
       "      <td>Coinbase Adding Margin Trading for Bitcoin Use...</td>\n",
       "      <td>1490378345</td>\n",
       "      <td>/TradeGoX/status/845417212013768705</td>\n",
       "      <td>TradeGoX</td>\n",
       "      <td>0</td>\n",
       "    </tr>\n",
       "    <tr>\n",
       "      <th>513</th>\n",
       "      <td>TBM NEWS</td>\n",
       "      <td>&lt;p class=\"TweetTextSize js-tweet-text tweet-te...</td>\n",
       "      <td>845417711316287488</td>\n",
       "      <td>0</td>\n",
       "      <td>0.0</td>\n",
       "      <td>0.0</td>\n",
       "      <td>Coinbase Adding Margin Trading for Bitcoin Use...</td>\n",
       "      <td>1490378464</td>\n",
       "      <td>/TBMGPT_News/status/845417711316287488</td>\n",
       "      <td>TBMGPT_News</td>\n",
       "      <td>0</td>\n",
       "    </tr>\n",
       "    <tr>\n",
       "      <th>517</th>\n",
       "      <td>mamoru.io</td>\n",
       "      <td>&lt;p class=\"TweetTextSize js-tweet-text tweet-te...</td>\n",
       "      <td>845418332669034496</td>\n",
       "      <td>1</td>\n",
       "      <td>0.0</td>\n",
       "      <td>3.0</td>\n",
       "      <td>Blockchain development in Australia overseen b...</td>\n",
       "      <td>1490378612</td>\n",
       "      <td>/mamoru_io/status/845418332669034496</td>\n",
       "      <td>mamoru_io</td>\n",
       "      <td>3</td>\n",
       "    </tr>\n",
       "    <tr>\n",
       "      <th>521</th>\n",
       "      <td>Alberto Jauregui</td>\n",
       "      <td>&lt;p class=\"TweetTextSize js-tweet-text tweet-te...</td>\n",
       "      <td>845418822307905536</td>\n",
       "      <td>1</td>\n",
       "      <td>0.0</td>\n",
       "      <td>1.0</td>\n",
       "      <td>http://ift.tt/2nRreNV  Second Ukraine Bank Lau...</td>\n",
       "      <td>1490378729</td>\n",
       "      <td>/CryptoJauregui/status/845418822307905536</td>\n",
       "      <td>CryptoJauregui</td>\n",
       "      <td>2</td>\n",
       "    </tr>\n",
       "  </tbody>\n",
       "</table>\n",
       "</div>"
      ],
      "text/plain": [
       "             fullname                                               html  \\\n",
       "500                 ∞  <p class=\"TweetTextSize js-tweet-text tweet-te...   \n",
       "511          TradeGoX  <p class=\"TweetTextSize js-tweet-text tweet-te...   \n",
       "513          TBM NEWS  <p class=\"TweetTextSize js-tweet-text tweet-te...   \n",
       "517         mamoru.io  <p class=\"TweetTextSize js-tweet-text tweet-te...   \n",
       "521  Alberto Jauregui  <p class=\"TweetTextSize js-tweet-text tweet-te...   \n",
       "\n",
       "                     id  likes  replies  retweets  \\\n",
       "500  845415639837749248      0      1.0       0.0   \n",
       "511  845417212013768705      0      0.0       0.0   \n",
       "513  845417711316287488      0      0.0       0.0   \n",
       "517  845418332669034496      1      0.0       3.0   \n",
       "521  845418822307905536      1      0.0       1.0   \n",
       "\n",
       "                                                  text   timestamp  \\\n",
       "500  I honestly believe ETH and BTC will move oppos...  1490377970   \n",
       "511  Coinbase Adding Margin Trading for Bitcoin Use...  1490378345   \n",
       "513  Coinbase Adding Margin Trading for Bitcoin Use...  1490378464   \n",
       "517  Blockchain development in Australia overseen b...  1490378612   \n",
       "521  http://ift.tt/2nRreNV  Second Ukraine Bank Lau...  1490378729   \n",
       "\n",
       "                                           url            user  cluster  \n",
       "500  /DailyBrainGame/status/845415639837749248  DailyBrainGame        2  \n",
       "511        /TradeGoX/status/845417212013768705        TradeGoX        0  \n",
       "513     /TBMGPT_News/status/845417711316287488     TBMGPT_News        0  \n",
       "517       /mamoru_io/status/845418332669034496       mamoru_io        3  \n",
       "521  /CryptoJauregui/status/845418822307905536  CryptoJauregui        2  "
      ]
     },
     "execution_count": 12,
     "metadata": {},
     "output_type": "execute_result"
    }
   ],
   "source": [
    "proba_bad_actual_df.tail()"
   ]
  },
  {
   "cell_type": "code",
   "execution_count": 13,
   "metadata": {},
   "outputs": [],
   "source": [
    "proba_df=pd.DataFrame(probability)\n",
    "\n",
    "proba_df.to_csv('dataset/csv/good_bad/proba.csv', sep=',')"
   ]
  },
  {
   "cell_type": "code",
   "execution_count": null,
   "metadata": {},
   "outputs": [],
   "source": []
  },
  {
   "cell_type": "markdown",
   "metadata": {},
   "source": [
    "### List Cluster"
   ]
  },
  {
   "cell_type": "code",
   "execution_count": 14,
   "metadata": {},
   "outputs": [
    {
     "data": {
      "text/plain": [
       "['1490363725',\n",
       " '1491918925',\n",
       " '1492005325',\n",
       " '1493646925',\n",
       " '1495288525',\n",
       " '1496930125',\n",
       " '1498571725',\n",
       " '1500213325',\n",
       " '1501854925',\n",
       " '1503496525',\n",
       " '1505138125',\n",
       " '1506779725',\n",
       " '1508421325',\n",
       " '1510062925',\n",
       " '1511704525',\n",
       " '1513346125',\n",
       " '1514987725',\n",
       " '1516629325',\n",
       " '1518270925',\n",
       " '1519912525',\n",
       " '1521381325']"
      ]
     },
     "execution_count": 14,
     "metadata": {},
     "output_type": "execute_result"
    }
   ],
   "source": [
    "file_list=os.listdir('dataset/csv/clustered_dataset/cluster/')\n",
    "file_list.remove('.DS_Store')\n",
    "file_list=sorted([f.split('.')[0] for f in file_list])\n",
    "file_list"
   ]
  },
  {
   "cell_type": "markdown",
   "metadata": {},
   "source": [
    "### Main Loop"
   ]
  },
  {
   "cell_type": "code",
   "execution_count": 15,
   "metadata": {
    "scrolled": false
   },
   "outputs": [
    {
     "name": "stdout",
     "output_type": "stream",
     "text": [
      "1490363725\n",
      "1491918925\n",
      "1492005325\n",
      "1493646925\n",
      "1495288525\n",
      "1496930125\n",
      "1498571725\n",
      "1500213325\n",
      "1501854925\n",
      "1503496525\n",
      "1505138125\n",
      "1506779725\n",
      "1508421325\n",
      "1510062925\n",
      "1511704525\n",
      "1513346125\n",
      "1514987725\n",
      "1516629325\n",
      "1518270925\n",
      "1519912525\n",
      "1521381325\n"
     ]
    }
   ],
   "source": [
    "opn=0\n",
    "close=0\n",
    "senti_close=[]\n",
    "senti_open=[]\n",
    "senti_high=[]\n",
    "senti_low=[]\n",
    "\n",
    "for i,file_name in enumerate(file_list):\n",
    "    df=pd.read_csv('dataset/csv/clustered_dataset/cluster/{}.csv'.format(file_name),encoding = 'utf8')\n",
    "    p_df=preprocess(df.copy())\n",
    "    p_df=p_df[p_df['text']!='']\n",
    "    probability=classifier.predict_proba(p_df['text'])\n",
    "    proba_good_tweet_index=[]\n",
    "    proba_bad_tweet_index=[]\n",
    "#     print(probability)\n",
    "    for i,row in enumerate(probability):\n",
    "        if row[0]>0.5:\n",
    "            proba_good_tweet_index.append(i)\n",
    "        if row[1]>0.5: \n",
    "            proba_bad_tweet_index.append(i)\n",
    "\n",
    "    proba_good_filtered_df=p_df.iloc[proba_good_tweet_index]\n",
    "    proba_bad_filtered_df=p_df.iloc[proba_bad_tweet_index]\n",
    "\n",
    "    proba_good_actual_df = df.iloc[proba_good_filtered_df.index]\n",
    "    proba_bad_actual_df = df.iloc[proba_bad_filtered_df.index]\n",
    "\n",
    "    proba_good_actual_df.to_csv('dataset/csv/good_bad/cluster/{}_good.csv'.format(file_name), sep=',', index=False)\n",
    "    proba_bad_actual_df.to_csv('dataset/csv/good_bad/cluster/{}_bad.csv'.format(file_name), sep=',', index=False)\n",
    "    print(file_name)\n",
    "    \n",
    "    g = opn + proba_good_actual_df['cluster'].value_counts().sum()\n",
    "    b = opn + proba_bad_actual_df['cluster'].value_counts().sum()\n",
    "    \n",
    "    close = opn + g - b\n",
    "    high = max(g, close, opn)\n",
    "    low = min(b, close, opn)\n",
    "    \n",
    "    senti_close.append(close+77)\n",
    "    senti_open.append(opn+77)\n",
    "    senti_high.append(high+77)\n",
    "    senti_low.append(low+77)\n",
    "    \n",
    "    opn=close\n",
    "    \n",
    "senti_df = pd.DataFrame({'close':senti_close})\n",
    "senti_df['high'] = senti_high\n",
    "senti_df['open'] = senti_open\n",
    "senti_df['low'] = senti_low\n",
    "senti_df['time'] = file_list\n",
    "senti_df.to_csv('dataset/csv/good_bad/sentiment_trend.csv'.format(file_name), sep=',', index=False)\n",
    "\n"
   ]
  },
  {
   "cell_type": "markdown",
   "metadata": {},
   "source": [
    "### Plot Trend Line"
   ]
  },
  {
   "cell_type": "code",
   "execution_count": 16,
   "metadata": {},
   "outputs": [
    {
     "name": "stdout",
     "output_type": "stream",
     "text": [
      "CPU times: user 5.09 ms, sys: 2.29 ms, total: 7.38 ms\n",
      "Wall time: 7.02 ms\n"
     ]
    },
    {
     "data": {
      "text/html": [
       "<div>\n",
       "<style scoped>\n",
       "    .dataframe tbody tr th:only-of-type {\n",
       "        vertical-align: middle;\n",
       "    }\n",
       "\n",
       "    .dataframe tbody tr th {\n",
       "        vertical-align: top;\n",
       "    }\n",
       "\n",
       "    .dataframe thead th {\n",
       "        text-align: right;\n",
       "    }\n",
       "</style>\n",
       "<table border=\"1\" class=\"dataframe\">\n",
       "  <thead>\n",
       "    <tr style=\"text-align: right;\">\n",
       "      <th></th>\n",
       "      <th>close</th>\n",
       "      <th>high</th>\n",
       "      <th>low</th>\n",
       "      <th>open</th>\n",
       "      <th>time</th>\n",
       "      <th>volumefrom</th>\n",
       "      <th>volumeto</th>\n",
       "    </tr>\n",
       "  </thead>\n",
       "  <tbody>\n",
       "    <tr>\n",
       "      <th>1645</th>\n",
       "      <td>966.30</td>\n",
       "      <td>995.96</td>\n",
       "      <td>890.43</td>\n",
       "      <td>939.70</td>\n",
       "      <td>1490400000</td>\n",
       "      <td>127044.59</td>\n",
       "      <td>1.183951e+08</td>\n",
       "    </tr>\n",
       "    <tr>\n",
       "      <th>1646</th>\n",
       "      <td>969.44</td>\n",
       "      <td>1004.32</td>\n",
       "      <td>946.65</td>\n",
       "      <td>966.30</td>\n",
       "      <td>1490486400</td>\n",
       "      <td>85332.41</td>\n",
       "      <td>8.325598e+07</td>\n",
       "    </tr>\n",
       "    <tr>\n",
       "      <th>1647</th>\n",
       "      <td>1045.14</td>\n",
       "      <td>1048.85</td>\n",
       "      <td>961.80</td>\n",
       "      <td>969.44</td>\n",
       "      <td>1490572800</td>\n",
       "      <td>91256.43</td>\n",
       "      <td>9.233222e+07</td>\n",
       "    </tr>\n",
       "    <tr>\n",
       "      <th>1648</th>\n",
       "      <td>1044.42</td>\n",
       "      <td>1068.41</td>\n",
       "      <td>1015.45</td>\n",
       "      <td>1045.14</td>\n",
       "      <td>1490659200</td>\n",
       "      <td>80000.90</td>\n",
       "      <td>8.356755e+07</td>\n",
       "    </tr>\n",
       "    <tr>\n",
       "      <th>1649</th>\n",
       "      <td>1041.90</td>\n",
       "      <td>1058.66</td>\n",
       "      <td>1008.34</td>\n",
       "      <td>1044.42</td>\n",
       "      <td>1490745600</td>\n",
       "      <td>68852.51</td>\n",
       "      <td>7.126154e+07</td>\n",
       "    </tr>\n",
       "  </tbody>\n",
       "</table>\n",
       "</div>"
      ],
      "text/plain": [
       "        close     high      low     open        time  volumefrom      volumeto\n",
       "1645   966.30   995.96   890.43   939.70  1490400000   127044.59  1.183951e+08\n",
       "1646   969.44  1004.32   946.65   966.30  1490486400    85332.41  8.325598e+07\n",
       "1647  1045.14  1048.85   961.80   969.44  1490572800    91256.43  9.233222e+07\n",
       "1648  1044.42  1068.41  1015.45  1045.14  1490659200    80000.90  8.356755e+07\n",
       "1649  1041.90  1058.66  1008.34  1044.42  1490745600    68852.51  7.126154e+07"
      ]
     },
     "execution_count": 16,
     "metadata": {},
     "output_type": "execute_result"
    }
   ],
   "source": [
    "%time history_df=pd.read_csv('dataset/csv/good_bad/history_day.csv',encoding = 'utf8')\n",
    "history_df = history_df.sort_values(['time'], ascending=True)\n",
    "history_df=history_df[(history_df['time']>=1490363725)&(history_df['time']<=1521381325)]\n",
    "history_df.head()"
   ]
  },
  {
   "cell_type": "code",
   "execution_count": 17,
   "metadata": {},
   "outputs": [
    {
     "data": {
      "image/png": "[encoded data removed]",
      "text/plain": [
       "<matplotlib.figure.Figure at 0x117a21400>"
      ]
     },
     "metadata": {},
     "output_type": "display_data"
    }
   ],
   "source": [
    "matplotlib.rcParams['figure.figsize'] = (20,5)\n",
    "pyplot.subplot(1,2,1)\n",
    "pyplot.xticks(rotation=45)\n",
    "pyplot.plot(file_list,senti_high,color='green')\n",
    "pyplot.plot(file_list,senti_open,color='orange')\n",
    "pyplot.plot(file_list,senti_close,color='blue')\n",
    "pyplot.plot(file_list,senti_low,color='red')\n",
    "\n",
    "pyplot.subplot(1,2,2)\n",
    "pyplot.xticks(rotation=45)\n",
    "pyplot.plot(history_df.iloc[:,4],history_df.iloc[:,1],color='green')\n",
    "pyplot.plot(history_df.iloc[:,4],history_df.iloc[:,3],color='orange')\n",
    "pyplot.plot(history_df.iloc[:,4],history_df.iloc[:,0],color='blue')\n",
    "pyplot.plot(history_df.iloc[:,4],history_df.iloc[:,2],color='red')\n",
    "pyplot.savefig('plot/sentiment_trend_relative.jpg')"
   ]
  },
  {
   "cell_type": "code",
   "execution_count": null,
   "metadata": {},
   "outputs": [],
   "source": []
  },
  {
   "cell_type": "code",
   "execution_count": 43,
   "metadata": {},
   "outputs": [
    {
     "data": {
      "text/plain": [
       "numpy.float64"
      ]
     },
     "execution_count": 43,
     "metadata": {},
     "output_type": "execute_result"
    }
   ],
   "source": [
    "path='/Users/oyo/Desktop/tweets/dataset/csv/clustered_dataset/history_day.csv'\n",
    "\n",
    "h=pd.read_csv(path,encoding = 'utf8')\n",
    "type(h.iloc[0,0])"
   ]
  },
  {
   "cell_type": "raw",
   "metadata": {},
   "source": [
    "opn=0\n",
    "close=0\n",
    "senti_close=[]\n",
    "senti_open=[]\n",
    "senti_high=[]\n",
    "senti_low=[]\n",
    "\n",
    "for i,file_name in enumerate(file_list):\n",
    "    df=pd.read_csv('dataset/csv/clustered_dataset/cluster/{}.csv'.format(file_name),encoding = 'utf8')\n",
    "    p_df=preprocess(df.copy())\n",
    "    p_df=p_df[p_df['text']!='']\n",
    "    probability=classifier.predict_proba(p_df['text'])\n",
    "    proba_good_tweet_index=[]\n",
    "    proba_bad_tweet_index=[]\n",
    "#     print(probability)\n",
    "    for i,row in enumerate(probability):\n",
    "        if row[0]>0.5:\n",
    "            proba_good_tweet_index.append(i)\n",
    "        if row[1]>0.5: \n",
    "            proba_bad_tweet_index.append(i)\n",
    "\n",
    "    proba_good_filtered_df=p_df.iloc[proba_good_tweet_index]\n",
    "    proba_bad_filtered_df=p_df.iloc[proba_bad_tweet_index]\n",
    "\n",
    "    proba_good_actual_df = df.iloc[proba_good_filtered_df.index]\n",
    "    proba_bad_actual_df = df.iloc[proba_bad_filtered_df.index]\n",
    "\n",
    "    proba_good_actual_df.to_csv('dataset/csv/good_bad/cluster/{}_good.csv'.format(file_name), sep=',', index=False)\n",
    "    proba_bad_actual_df.to_csv('dataset/csv/good_bad/cluster/{}_bad.csv'.format(file_name), sep=',', index=False)\n",
    "    print(file_name)\n",
    "    \n",
    "    len_good=proba_good_actual_df['timestamp'].value_counts().sum()\n",
    "    len_bad=proba_bad_actual_df['timestamp'].value_counts().sum()\n",
    "    \n",
    "    [loop_count,wch]=[len_good,'good'] if len_good<len_bad else [len_bad,'bad']\n",
    "    j=0\n",
    "    k=0\n",
    "    close=0\n",
    "    for i in range(loop_count):\n",
    "        [close,j,k] = [close+1,j+1,k] if proba_good_actual_df['timestamp'].iloc[j]<=proba_bad_actual_df['timestamp'].iloc[k] else [close-1,j,k+1]\n",
    "    \n",
    "    close=close-(len_bad-len_good) if wch=='good' else close+len_good-len_bad\n",
    "    \n",
    "     \n",
    "    g = opn + proba_good_actual_df['cluster'].value_counts().sum()\n",
    "    b = opn + proba_bad_actual_df['cluster'].value_counts().sum()\n",
    "    \n",
    "    close = opn + close\n",
    "    high = max(g, close, opn)\n",
    "    low = min(b, close, opn)\n",
    "    \n",
    "    senti_close.append(close+77)\n",
    "    senti_open.append(opn+77)\n",
    "    senti_high.append(high+77)\n",
    "    senti_low.append(low+77)\n",
    "    \n",
    "    opn=close\n",
    "    \n",
    "senti_df = pd.DataFrame({'close':senti_close})\n",
    "senti_df['high'] = senti_high\n",
    "senti_df['open'] = senti_open\n",
    "senti_df['low'] = senti_low\n",
    "senti_df['time'] = file_list\n",
    "senti_df.to_csv('dataset/csv/good_bad/sentiment_trend.csv'.format(file_name), sep=',', index=False)\n",
    "\n"
   ]
  },
  {
   "cell_type": "code",
   "execution_count": 274,
   "metadata": {},
   "outputs": [
    {
     "ename": "NameError",
     "evalue": "name 'Datetime' is not defined",
     "output_type": "error",
     "traceback": [
      "\u001b[0;31m---------------------------------------------------------------------------\u001b[0m",
      "\u001b[0;31mNameError\u001b[0m                                 Traceback (most recent call last)",
      "\u001b[0;32m<ipython-input-274-fbc6bae6e7c4>\u001b[0m in \u001b[0;36m<module>\u001b[0;34m()\u001b[0m\n\u001b[0;32m----> 1\u001b[0;31m \u001b[0mDatetime\u001b[0m\u001b[0;34m(\u001b[0m\u001b[0;34m)\u001b[0m\u001b[0;34m\u001b[0m\u001b[0m\n\u001b[0m",
      "\u001b[0;31mNameError\u001b[0m: name 'Datetime' is not defined"
     ]
    }
   ],
   "source": []
  },
  {
   "cell_type": "code",
   "execution_count": null,
   "metadata": {},
   "outputs": [],
   "source": []
  }
 ],
 "metadata": {
  "kernelspec": {
   "display_name": "Python 3",
   "language": "python",
   "name": "python3"
  },
  "language_info": {
   "codemirror_mode": {
    "name": "ipython",
    "version": 3
   },
   "file_extension": ".py",
   "mimetype": "text/x-python",
   "name": "python",
   "nbconvert_exporter": "python",
   "pygments_lexer": "ipython3",
   "version": "3.6.4"
  }
 },
 "nbformat": 4,
 "nbformat_minor": 2
}
