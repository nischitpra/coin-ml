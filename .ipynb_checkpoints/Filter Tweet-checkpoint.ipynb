{
 "cells": [
  {
   "cell_type": "markdown",
   "metadata": {},
   "source": [
    "##### This project makes use of saved trained model to filter relevant crypto tweets from dataset. The result is saved as `CSV`."
   ]
  },
  {
   "cell_type": "markdown",
   "metadata": {},
   "source": [
    "### Filter Tweet"
   ]
  },
  {
   "cell_type": "code",
   "execution_count": 1,
   "metadata": {},
   "outputs": [],
   "source": [
    "import pickle\n",
    "import pandas as pd\n",
    "import numpy as np\n",
    "from pprint import pprint\n",
    "import re\n",
    "from nltk.corpus import stopwords\n",
    "from nltk.stem.snowball import EnglishStemmer"
   ]
  },
  {
   "cell_type": "code",
   "execution_count": 2,
   "metadata": {},
   "outputs": [
    {
     "name": "stdout",
     "output_type": "stream",
     "text": [
      "['i', 'me', 'my', 'myself', 'we', 'our', 'ours', 'ourselves', 'you', \"you're\", \"you've\", \"you'll\", \"you'd\", 'your', 'yours', 'yourself', 'yourselves', 'he', 'him', 'his', 'himself', 'she', \"she's\", 'her', 'hers', 'herself', 'it', \"it's\", 'its', 'itself', 'they', 'them', 'their', 'theirs', 'themselves', 'what', 'which', 'who', 'whom', 'this', 'that', \"that'll\", 'these', 'those', 'am', 'is', 'are', 'was', 'were', 'be', 'been', 'being', 'have', 'has', 'had', 'having', 'do', 'does', 'did', 'doing', 'a', 'an', 'the', 'and', 'but', 'if', 'or', 'because', 'as', 'until', 'while', 'of', 'at', 'by', 'for', 'with', 'about', 'against', 'between', 'into', 'through', 'during', 'before', 'after', 'above', 'below', 'to', 'from', 'up', 'down', 'in', 'out', 'on', 'off', 'over', 'under', 'again', 'further', 'then', 'once', 'here', 'there', 'when', 'where', 'why', 'how', 'all', 'any', 'both', 'each', 'few', 'more', 'most', 'other', 'some', 'such', 'no', 'nor', 'not', 'only', 'own', 'same', 'so', 'than', 'too', 'very', 's', 't', 'can', 'will', 'just', 'don', \"don't\", 'should', \"should've\", 'now', 'd', 'll', 'm', 'o', 're', 've', 'y', 'ain', 'aren', \"aren't\", 'couldn', \"couldn't\", 'didn', \"didn't\", 'doesn', \"doesn't\", 'hadn', \"hadn't\", 'hasn', \"hasn't\", 'haven', \"haven't\", 'isn', \"isn't\", 'ma', 'mightn', \"mightn't\", 'mustn', \"mustn't\", 'needn', \"needn't\", 'shan', \"shan't\", 'shouldn', \"shouldn't\", 'wasn', \"wasn't\", 'weren', \"weren't\", 'won', \"won't\", 'wouldn', \"wouldn't\", 'to', 'and', 'http', 'https', 'com', 'co', 'www']\n"
     ]
    }
   ],
   "source": [
    "stemmer = EnglishStemmer()\n",
    "stop_words = stopwords.words('english')\n",
    "my_stop_words='to and http https com co www'\n",
    "stop_words=stop_words+my_stop_words.split()\n",
    "print(stop_words)"
   ]
  },
  {
   "cell_type": "code",
   "execution_count": 3,
   "metadata": {},
   "outputs": [],
   "source": [
    "def preprocess(_df):\n",
    "    _df['text']=_df['text'].apply(lambda tweet:str(tweet) if str(tweet).count('\\n')<=3 else '')\n",
    "    _df['text']=_df['text'].apply(lambda tweet:tweet if tweet.count('#')<=3 else '')\n",
    "    _df['text']=_df['text'].apply(lambda tweet:re.sub('[^ ]+\\.[^ ]+','',tweet))\n",
    "    _df['text']=_df['text'].apply(lambda tweet:re.sub('#[^ ]+','',tweet))\n",
    "    _df['text']=_df['text'].apply(lambda tweet:re.sub('[^a-zA-Z0-9 ]',' ',(tweet)))\n",
    "    _df['text']=_df['text'].apply(lambda tweet:' '.join([word.lower() for word in tweet.strip().split() if word.lower() not in stop_words]))\n",
    "    _df['text']=_df['text'].apply(lambda tweet:stemmer.stem(tweet.strip()))\n",
    "    return _df"
   ]
  },
  {
   "cell_type": "markdown",
   "metadata": {},
   "source": [
    "### Load saved model"
   ]
  },
  {
   "cell_type": "code",
   "execution_count": 4,
   "metadata": {},
   "outputs": [],
   "source": [
    "classifier = pickle.load(open('saved_classifier/filter_model.sav', 'rb'))"
   ]
  },
  {
   "cell_type": "code",
   "execution_count": 5,
   "metadata": {},
   "outputs": [
    {
     "data": {
      "text/html": [
       "<div>\n",
       "<style scoped>\n",
       "    .dataframe tbody tr th:only-of-type {\n",
       "        vertical-align: middle;\n",
       "    }\n",
       "\n",
       "    .dataframe tbody tr th {\n",
       "        vertical-align: top;\n",
       "    }\n",
       "\n",
       "    .dataframe thead th {\n",
       "        text-align: right;\n",
       "    }\n",
       "</style>\n",
       "<table border=\"1\" class=\"dataframe\">\n",
       "  <thead>\n",
       "    <tr style=\"text-align: right;\">\n",
       "      <th></th>\n",
       "      <th>text</th>\n",
       "    </tr>\n",
       "  </thead>\n",
       "  <tbody>\n",
       "    <tr>\n",
       "      <th>0</th>\n",
       "      <td>coinbase hires silicon valley dealmaker firm e...</td>\n",
       "    </tr>\n",
       "  </tbody>\n",
       "</table>\n",
       "</div>"
      ],
      "text/plain": [
       "                                                text\n",
       "0  coinbase hires silicon valley dealmaker firm e..."
      ]
     },
     "execution_count": 5,
     "metadata": {},
     "output_type": "execute_result"
    }
   ],
   "source": [
    "new_text=[\"\"\"Coinbase                                       Hires Silicon Valley Dealmaker as Firm Explores Potential Acquisitions - CCN: Bitcoin, Ethereum, ICO, Blockchain & Cryptocurrency News http://dlvr.it/QJwjKW pic.twitter.com/T8JLIwUsew\"\"\"]\n",
    "new_text=preprocess(pd.DataFrame({'text':new_text}))\n",
    "new_text=new_text[new_text['text']!='']\n",
    "new_text"
   ]
  },
  {
   "cell_type": "code",
   "execution_count": 6,
   "metadata": {},
   "outputs": [
    {
     "data": {
      "text/plain": [
       "array([1.])"
      ]
     },
     "execution_count": 6,
     "metadata": {},
     "output_type": "execute_result"
    }
   ],
   "source": [
    "classifier.predict(new_text['text'])"
   ]
  },
  {
   "cell_type": "markdown",
   "metadata": {},
   "source": [
    "### Load Dataset"
   ]
  },
  {
   "cell_type": "code",
   "execution_count": 7,
   "metadata": {
    "scrolled": false
   },
   "outputs": [
    {
     "name": "stdout",
     "output_type": "stream",
     "text": [
      "CPU times: user 1.44 s, sys: 175 ms, total: 1.62 s\n",
      "Wall time: 1.63 s\n",
      "(100153, 10)\n"
     ]
    },
    {
     "data": {
      "text/html": [
       "<div>\n",
       "<style scoped>\n",
       "    .dataframe tbody tr th:only-of-type {\n",
       "        vertical-align: middle;\n",
       "    }\n",
       "\n",
       "    .dataframe tbody tr th {\n",
       "        vertical-align: top;\n",
       "    }\n",
       "\n",
       "    .dataframe thead th {\n",
       "        text-align: right;\n",
       "    }\n",
       "</style>\n",
       "<table border=\"1\" class=\"dataframe\">\n",
       "  <thead>\n",
       "    <tr style=\"text-align: right;\">\n",
       "      <th></th>\n",
       "      <th>fullname</th>\n",
       "      <th>html</th>\n",
       "      <th>id</th>\n",
       "      <th>likes</th>\n",
       "      <th>replies</th>\n",
       "      <th>retweets</th>\n",
       "      <th>text</th>\n",
       "      <th>timestamp</th>\n",
       "      <th>url</th>\n",
       "      <th>user</th>\n",
       "    </tr>\n",
       "  </thead>\n",
       "  <tbody>\n",
       "    <tr>\n",
       "      <th>100148</th>\n",
       "      <td>Alparslan</td>\n",
       "      <td>&lt;p class=\"TweetTextSize js-tweet-text tweet-te...</td>\n",
       "      <td>969339185122500617</td>\n",
       "      <td>0</td>\n",
       "      <td>0.0</td>\n",
       "      <td>0.0</td>\n",
       "      <td>Hey I just received 500 GRAM Tokens as a bonus...</td>\n",
       "      <td>2018-03-01T22:30:45</td>\n",
       "      <td>/Responsense/status/969339185122500617</td>\n",
       "      <td>Responsense</td>\n",
       "    </tr>\n",
       "    <tr>\n",
       "      <th>100149</th>\n",
       "      <td>SunBro420</td>\n",
       "      <td>&lt;p class=\"TweetTextSize js-tweet-text tweet-te...</td>\n",
       "      <td>969339184950534144</td>\n",
       "      <td>0</td>\n",
       "      <td>0.0</td>\n",
       "      <td>0.0</td>\n",
       "      <td>It occurred to me this tariff on steel and alu...</td>\n",
       "      <td>2018-03-01T22:30:45</td>\n",
       "      <td>/BTC_Ron/status/969339184950534144</td>\n",
       "      <td>BTC_Ron</td>\n",
       "    </tr>\n",
       "    <tr>\n",
       "      <th>100150</th>\n",
       "      <td>CRDZ</td>\n",
       "      <td>&lt;p class=\"TweetTextSize js-tweet-text tweet-te...</td>\n",
       "      <td>969339178289807361</td>\n",
       "      <td>0</td>\n",
       "      <td>0.0</td>\n",
       "      <td>0.0</td>\n",
       "      <td>“Japan currently ranks as the largest #Bitcoin...</td>\n",
       "      <td>2018-03-01T22:30:44</td>\n",
       "      <td>/CRDZ_TA/status/969339178289807361</td>\n",
       "      <td>CRDZ_TA</td>\n",
       "    </tr>\n",
       "    <tr>\n",
       "      <th>100151</th>\n",
       "      <td>Arnaldo Queiroz R .F</td>\n",
       "      <td>&lt;p class=\"TweetTextSize js-tweet-text tweet-te...</td>\n",
       "      <td>969339168835989504</td>\n",
       "      <td>1</td>\n",
       "      <td>0.0</td>\n",
       "      <td>0.0</td>\n",
       "      <td>http://bit.ly/2HWjosV  Alemanha reconhecendo b...</td>\n",
       "      <td>2018-03-01T22:30:41</td>\n",
       "      <td>/arnekk/status/969339168835989504</td>\n",
       "      <td>arnekk</td>\n",
       "    </tr>\n",
       "    <tr>\n",
       "      <th>100152</th>\n",
       "      <td>Chuck Kichler</td>\n",
       "      <td>&lt;p class=\"TweetTextSize js-tweet-text tweet-te...</td>\n",
       "      <td>969339165727973376</td>\n",
       "      <td>1</td>\n",
       "      <td>0.0</td>\n",
       "      <td>2.0</td>\n",
       "      <td>Arm Cortex-M3 processor - the core of the Inte...</td>\n",
       "      <td>2018-03-01T22:30:41</td>\n",
       "      <td>/cloudubq/status/969339165727973376</td>\n",
       "      <td>cloudubq</td>\n",
       "    </tr>\n",
       "  </tbody>\n",
       "</table>\n",
       "</div>"
      ],
      "text/plain": [
       "                    fullname  \\\n",
       "100148             Alparslan   \n",
       "100149             SunBro420   \n",
       "100150                  CRDZ   \n",
       "100151  Arnaldo Queiroz R .F   \n",
       "100152         Chuck Kichler   \n",
       "\n",
       "                                                     html                  id  \\\n",
       "100148  <p class=\"TweetTextSize js-tweet-text tweet-te...  969339185122500617   \n",
       "100149  <p class=\"TweetTextSize js-tweet-text tweet-te...  969339184950534144   \n",
       "100150  <p class=\"TweetTextSize js-tweet-text tweet-te...  969339178289807361   \n",
       "100151  <p class=\"TweetTextSize js-tweet-text tweet-te...  969339168835989504   \n",
       "100152  <p class=\"TweetTextSize js-tweet-text tweet-te...  969339165727973376   \n",
       "\n",
       "       likes  replies  retweets  \\\n",
       "100148     0      0.0       0.0   \n",
       "100149     0      0.0       0.0   \n",
       "100150     0      0.0       0.0   \n",
       "100151     1      0.0       0.0   \n",
       "100152     1      0.0       2.0   \n",
       "\n",
       "                                                     text  \\\n",
       "100148  Hey I just received 500 GRAM Tokens as a bonus...   \n",
       "100149  It occurred to me this tariff on steel and alu...   \n",
       "100150  “Japan currently ranks as the largest #Bitcoin...   \n",
       "100151  http://bit.ly/2HWjosV  Alemanha reconhecendo b...   \n",
       "100152  Arm Cortex-M3 processor - the core of the Inte...   \n",
       "\n",
       "                  timestamp                                     url  \\\n",
       "100148  2018-03-01T22:30:45  /Responsense/status/969339185122500617   \n",
       "100149  2018-03-01T22:30:45      /BTC_Ron/status/969339184950534144   \n",
       "100150  2018-03-01T22:30:44      /CRDZ_TA/status/969339178289807361   \n",
       "100151  2018-03-01T22:30:41       /arnekk/status/969339168835989504   \n",
       "100152  2018-03-01T22:30:41     /cloudubq/status/969339165727973376   \n",
       "\n",
       "               user  \n",
       "100148  Responsense  \n",
       "100149      BTC_Ron  \n",
       "100150      CRDZ_TA  \n",
       "100151       arnekk  \n",
       "100152     cloudubq  "
      ]
     },
     "execution_count": 7,
     "metadata": {},
     "output_type": "execute_result"
    }
   ],
   "source": [
    "%time df=pd.read_csv('dataset/csv/bitcoin_full_3.csv',encoding = 'utf8')\n",
    "print(df.shape)\n",
    "df.tail()"
   ]
  },
  {
   "cell_type": "markdown",
   "metadata": {},
   "source": [
    "### Preprocess \n",
    "#### Create text list"
   ]
  },
  {
   "cell_type": "code",
   "execution_count": 8,
   "metadata": {},
   "outputs": [
    {
     "data": {
      "text/plain": [
       "(100153, 10)"
      ]
     },
     "execution_count": 8,
     "metadata": {},
     "output_type": "execute_result"
    }
   ],
   "source": [
    "p_df=preprocess(df.copy())\n",
    "p_df.shape"
   ]
  },
  {
   "cell_type": "markdown",
   "metadata": {},
   "source": [
    "#### Create dataframe to keep track of index"
   ]
  },
  {
   "cell_type": "code",
   "execution_count": 9,
   "metadata": {
    "scrolled": false
   },
   "outputs": [
    {
     "name": "stdout",
     "output_type": "stream",
     "text": [
      "(80474, 10)\n"
     ]
    },
    {
     "data": {
      "text/html": [
       "<div>\n",
       "<style scoped>\n",
       "    .dataframe tbody tr th:only-of-type {\n",
       "        vertical-align: middle;\n",
       "    }\n",
       "\n",
       "    .dataframe tbody tr th {\n",
       "        vertical-align: top;\n",
       "    }\n",
       "\n",
       "    .dataframe thead th {\n",
       "        text-align: right;\n",
       "    }\n",
       "</style>\n",
       "<table border=\"1\" class=\"dataframe\">\n",
       "  <thead>\n",
       "    <tr style=\"text-align: right;\">\n",
       "      <th></th>\n",
       "      <th>fullname</th>\n",
       "      <th>html</th>\n",
       "      <th>id</th>\n",
       "      <th>likes</th>\n",
       "      <th>replies</th>\n",
       "      <th>retweets</th>\n",
       "      <th>text</th>\n",
       "      <th>timestamp</th>\n",
       "      <th>url</th>\n",
       "      <th>user</th>\n",
       "    </tr>\n",
       "  </thead>\n",
       "  <tbody>\n",
       "    <tr>\n",
       "      <th>100146</th>\n",
       "      <td>Chirac  ⚡️$BCH  ⚡️</td>\n",
       "      <td>&lt;p class=\"TweetTextSize js-tweet-text tweet-te...</td>\n",
       "      <td>969339190574972936</td>\n",
       "      <td>1</td>\n",
       "      <td>0.0</td>\n",
       "      <td>0.0</td>\n",
       "      <td>never ask something politely twitter least kin...</td>\n",
       "      <td>2018-03-01T22:30:47</td>\n",
       "      <td>/Panther_BTC/status/969339190574972936</td>\n",
       "      <td>Panther_BTC</td>\n",
       "    </tr>\n",
       "    <tr>\n",
       "      <th>100148</th>\n",
       "      <td>Alparslan</td>\n",
       "      <td>&lt;p class=\"TweetTextSize js-tweet-text tweet-te...</td>\n",
       "      <td>969339185122500617</td>\n",
       "      <td>0</td>\n",
       "      <td>0.0</td>\n",
       "      <td>0.0</td>\n",
       "      <td>hey received 500 gram tokens bonus telegram ic...</td>\n",
       "      <td>2018-03-01T22:30:45</td>\n",
       "      <td>/Responsense/status/969339185122500617</td>\n",
       "      <td>Responsense</td>\n",
       "    </tr>\n",
       "    <tr>\n",
       "      <th>100149</th>\n",
       "      <td>SunBro420</td>\n",
       "      <td>&lt;p class=\"TweetTextSize js-tweet-text tweet-te...</td>\n",
       "      <td>969339184950534144</td>\n",
       "      <td>0</td>\n",
       "      <td>0.0</td>\n",
       "      <td>0.0</td>\n",
       "      <td>occurred tariff steel aluminum seemed like tru...</td>\n",
       "      <td>2018-03-01T22:30:45</td>\n",
       "      <td>/BTC_Ron/status/969339184950534144</td>\n",
       "      <td>BTC_Ron</td>\n",
       "    </tr>\n",
       "    <tr>\n",
       "      <th>100150</th>\n",
       "      <td>CRDZ</td>\n",
       "      <td>&lt;p class=\"TweetTextSize js-tweet-text tweet-te...</td>\n",
       "      <td>969339178289807361</td>\n",
       "      <td>0</td>\n",
       "      <td>0.0</td>\n",
       "      <td>0.0</td>\n",
       "      <td>japan currently ranks largest market share 61 ...</td>\n",
       "      <td>2018-03-01T22:30:44</td>\n",
       "      <td>/CRDZ_TA/status/969339178289807361</td>\n",
       "      <td>CRDZ_TA</td>\n",
       "    </tr>\n",
       "    <tr>\n",
       "      <th>100151</th>\n",
       "      <td>Arnaldo Queiroz R .F</td>\n",
       "      <td>&lt;p class=\"TweetTextSize js-tweet-text tweet-te...</td>\n",
       "      <td>969339168835989504</td>\n",
       "      <td>1</td>\n",
       "      <td>0.0</td>\n",
       "      <td>0.0</td>\n",
       "      <td>alemanha reconhecendo bitcoin como meio de pag...</td>\n",
       "      <td>2018-03-01T22:30:41</td>\n",
       "      <td>/arnekk/status/969339168835989504</td>\n",
       "      <td>arnekk</td>\n",
       "    </tr>\n",
       "  </tbody>\n",
       "</table>\n",
       "</div>"
      ],
      "text/plain": [
       "                    fullname  \\\n",
       "100146    Chirac  ⚡️$BCH  ⚡️   \n",
       "100148             Alparslan   \n",
       "100149             SunBro420   \n",
       "100150                  CRDZ   \n",
       "100151  Arnaldo Queiroz R .F   \n",
       "\n",
       "                                                     html                  id  \\\n",
       "100146  <p class=\"TweetTextSize js-tweet-text tweet-te...  969339190574972936   \n",
       "100148  <p class=\"TweetTextSize js-tweet-text tweet-te...  969339185122500617   \n",
       "100149  <p class=\"TweetTextSize js-tweet-text tweet-te...  969339184950534144   \n",
       "100150  <p class=\"TweetTextSize js-tweet-text tweet-te...  969339178289807361   \n",
       "100151  <p class=\"TweetTextSize js-tweet-text tweet-te...  969339168835989504   \n",
       "\n",
       "       likes  replies  retweets  \\\n",
       "100146     1      0.0       0.0   \n",
       "100148     0      0.0       0.0   \n",
       "100149     0      0.0       0.0   \n",
       "100150     0      0.0       0.0   \n",
       "100151     1      0.0       0.0   \n",
       "\n",
       "                                                     text  \\\n",
       "100146  never ask something politely twitter least kin...   \n",
       "100148  hey received 500 gram tokens bonus telegram ic...   \n",
       "100149  occurred tariff steel aluminum seemed like tru...   \n",
       "100150  japan currently ranks largest market share 61 ...   \n",
       "100151  alemanha reconhecendo bitcoin como meio de pag...   \n",
       "\n",
       "                  timestamp                                     url  \\\n",
       "100146  2018-03-01T22:30:47  /Panther_BTC/status/969339190574972936   \n",
       "100148  2018-03-01T22:30:45  /Responsense/status/969339185122500617   \n",
       "100149  2018-03-01T22:30:45      /BTC_Ron/status/969339184950534144   \n",
       "100150  2018-03-01T22:30:44      /CRDZ_TA/status/969339178289807361   \n",
       "100151  2018-03-01T22:30:41       /arnekk/status/969339168835989504   \n",
       "\n",
       "               user  \n",
       "100146  Panther_BTC  \n",
       "100148  Responsense  \n",
       "100149      BTC_Ron  \n",
       "100150      CRDZ_TA  \n",
       "100151       arnekk  "
      ]
     },
     "execution_count": 9,
     "metadata": {},
     "output_type": "execute_result"
    }
   ],
   "source": [
    "p_df=p_df[p_df['text']!='']\n",
    "print(p_df.shape)\n",
    "p_df.tail()"
   ]
  },
  {
   "cell_type": "markdown",
   "metadata": {},
   "source": [
    "### Classification"
   ]
  },
  {
   "cell_type": "code",
   "execution_count": 10,
   "metadata": {},
   "outputs": [
    {
     "name": "stdout",
     "output_type": "stream",
     "text": [
      "CPU times: user 1.02 s, sys: 93.9 ms, total: 1.11 s\n",
      "Wall time: 1.02 s\n",
      "[1. 0. 0.]\n",
      "[[2.43140526e-004 9.99756859e-001]\n",
      " [1.00000000e+000 4.65053873e-179]\n",
      " [1.00000000e+000 1.79008596e-064]]\n"
     ]
    }
   ],
   "source": [
    "%time prediction=classifier.predict(p_df['text'])\n",
    "probability = classifier.predict_proba(p_df['text'])\n",
    "print(prediction[0:3])\n",
    "print(probability[0:3])"
   ]
  },
  {
   "cell_type": "code",
   "execution_count": 11,
   "metadata": {},
   "outputs": [],
   "source": [
    "good_tweet_index=[i for i,val in enumerate(prediction) if val==1]\n",
    "proba_good_tweet_index=[i for i,row in enumerate(probability) if row[1]>0.99]"
   ]
  },
  {
   "cell_type": "code",
   "execution_count": 12,
   "metadata": {},
   "outputs": [
    {
     "data": {
      "text/html": [
       "<div>\n",
       "<style scoped>\n",
       "    .dataframe tbody tr th:only-of-type {\n",
       "        vertical-align: middle;\n",
       "    }\n",
       "\n",
       "    .dataframe tbody tr th {\n",
       "        vertical-align: top;\n",
       "    }\n",
       "\n",
       "    .dataframe thead th {\n",
       "        text-align: right;\n",
       "    }\n",
       "</style>\n",
       "<table border=\"1\" class=\"dataframe\">\n",
       "  <thead>\n",
       "    <tr style=\"text-align: right;\">\n",
       "      <th></th>\n",
       "      <th>fullname</th>\n",
       "      <th>html</th>\n",
       "      <th>id</th>\n",
       "      <th>likes</th>\n",
       "      <th>replies</th>\n",
       "      <th>retweets</th>\n",
       "      <th>text</th>\n",
       "      <th>timestamp</th>\n",
       "      <th>url</th>\n",
       "      <th>user</th>\n",
       "    </tr>\n",
       "  </thead>\n",
       "  <tbody>\n",
       "    <tr>\n",
       "      <th>100102</th>\n",
       "      <td>Roger Ver</td>\n",
       "      <td>&lt;p class=\"TweetTextSize js-tweet-text tweet-te...</td>\n",
       "      <td>969339323538604034</td>\n",
       "      <td>970</td>\n",
       "      <td>242.0</td>\n",
       "      <td>325.0</td>\n",
       "      <td>order bitpay card pay bitcoin cash load card d...</td>\n",
       "      <td>2018-03-01T22:31:18</td>\n",
       "      <td>/rogerkver/status/969339323538604034</td>\n",
       "      <td>rogerkver</td>\n",
       "    </tr>\n",
       "    <tr>\n",
       "      <th>100119</th>\n",
       "      <td>#Bitcoin #News #BTC</td>\n",
       "      <td>&lt;p class=\"TweetTextSize js-tweet-text tweet-te...</td>\n",
       "      <td>969339280396111879</td>\n",
       "      <td>0</td>\n",
       "      <td>0.0</td>\n",
       "      <td>0.0</td>\n",
       "      <td>regional us bank latest admit cryptocurrency t...</td>\n",
       "      <td>2018-03-01T22:31:08</td>\n",
       "      <td>/1BitcoinNews/status/969339280396111879</td>\n",
       "      <td>1BitcoinNews</td>\n",
       "    </tr>\n",
       "    <tr>\n",
       "      <th>100126</th>\n",
       "      <td>John Jones</td>\n",
       "      <td>&lt;p class=\"TweetTextSize js-tweet-text tweet-te...</td>\n",
       "      <td>969339262855516162</td>\n",
       "      <td>0</td>\n",
       "      <td>0.0</td>\n",
       "      <td>0.0</td>\n",
       "      <td>australians purchase btc eth across 1 200 news...</td>\n",
       "      <td>2018-03-01T22:31:04</td>\n",
       "      <td>/Testie403/status/969339262855516162</td>\n",
       "      <td>Testie403</td>\n",
       "    </tr>\n",
       "    <tr>\n",
       "      <th>100127</th>\n",
       "      <td>@criptomonedas365</td>\n",
       "      <td>&lt;p class=\"TweetTextSize js-tweet-text tweet-te...</td>\n",
       "      <td>969339258719948800</td>\n",
       "      <td>0</td>\n",
       "      <td>0.0</td>\n",
       "      <td>0.0</td>\n",
       "      <td>goldman sachs sigue criticando bitcoin pero ha...</td>\n",
       "      <td>2018-03-01T22:31:03</td>\n",
       "      <td>/cripto365/status/969339258719948800</td>\n",
       "      <td>cripto365</td>\n",
       "    </tr>\n",
       "    <tr>\n",
       "      <th>100136</th>\n",
       "      <td>Michael Afolayan</td>\n",
       "      <td>&lt;p class=\"TweetTextSize js-tweet-text tweet-te...</td>\n",
       "      <td>969339227367493634</td>\n",
       "      <td>0</td>\n",
       "      <td>0.0</td>\n",
       "      <td>0.0</td>\n",
       "      <td>court st petersburg strikes ban bitcoin sites ...</td>\n",
       "      <td>2018-03-01T22:30:55</td>\n",
       "      <td>/Theophelat/status/969339227367493634</td>\n",
       "      <td>Theophelat</td>\n",
       "    </tr>\n",
       "  </tbody>\n",
       "</table>\n",
       "</div>"
      ],
      "text/plain": [
       "                   fullname  \\\n",
       "100102            Roger Ver   \n",
       "100119  #Bitcoin #News #BTC   \n",
       "100126           John Jones   \n",
       "100127    @criptomonedas365   \n",
       "100136     Michael Afolayan   \n",
       "\n",
       "                                                     html                  id  \\\n",
       "100102  <p class=\"TweetTextSize js-tweet-text tweet-te...  969339323538604034   \n",
       "100119  <p class=\"TweetTextSize js-tweet-text tweet-te...  969339280396111879   \n",
       "100126  <p class=\"TweetTextSize js-tweet-text tweet-te...  969339262855516162   \n",
       "100127  <p class=\"TweetTextSize js-tweet-text tweet-te...  969339258719948800   \n",
       "100136  <p class=\"TweetTextSize js-tweet-text tweet-te...  969339227367493634   \n",
       "\n",
       "       likes  replies  retweets  \\\n",
       "100102   970    242.0     325.0   \n",
       "100119     0      0.0       0.0   \n",
       "100126     0      0.0       0.0   \n",
       "100127     0      0.0       0.0   \n",
       "100136     0      0.0       0.0   \n",
       "\n",
       "                                                     text  \\\n",
       "100102  order bitpay card pay bitcoin cash load card d...   \n",
       "100119  regional us bank latest admit cryptocurrency t...   \n",
       "100126  australians purchase btc eth across 1 200 news...   \n",
       "100127  goldman sachs sigue criticando bitcoin pero ha...   \n",
       "100136  court st petersburg strikes ban bitcoin sites ...   \n",
       "\n",
       "                  timestamp                                      url  \\\n",
       "100102  2018-03-01T22:31:18     /rogerkver/status/969339323538604034   \n",
       "100119  2018-03-01T22:31:08  /1BitcoinNews/status/969339280396111879   \n",
       "100126  2018-03-01T22:31:04     /Testie403/status/969339262855516162   \n",
       "100127  2018-03-01T22:31:03     /cripto365/status/969339258719948800   \n",
       "100136  2018-03-01T22:30:55    /Theophelat/status/969339227367493634   \n",
       "\n",
       "                user  \n",
       "100102     rogerkver  \n",
       "100119  1BitcoinNews  \n",
       "100126     Testie403  \n",
       "100127     cripto365  \n",
       "100136    Theophelat  "
      ]
     },
     "execution_count": 12,
     "metadata": {},
     "output_type": "execute_result"
    }
   ],
   "source": [
    "filtered_df = p_df.iloc[good_tweet_index]\n",
    "proba_filtered_df = p_df.iloc[proba_good_tweet_index]\n",
    "filtered_df.tail()"
   ]
  },
  {
   "cell_type": "code",
   "execution_count": 13,
   "metadata": {},
   "outputs": [
    {
     "data": {
      "text/html": [
       "<div>\n",
       "<style scoped>\n",
       "    .dataframe tbody tr th:only-of-type {\n",
       "        vertical-align: middle;\n",
       "    }\n",
       "\n",
       "    .dataframe tbody tr th {\n",
       "        vertical-align: top;\n",
       "    }\n",
       "\n",
       "    .dataframe thead th {\n",
       "        text-align: right;\n",
       "    }\n",
       "</style>\n",
       "<table border=\"1\" class=\"dataframe\">\n",
       "  <thead>\n",
       "    <tr style=\"text-align: right;\">\n",
       "      <th></th>\n",
       "      <th>fullname</th>\n",
       "      <th>html</th>\n",
       "      <th>id</th>\n",
       "      <th>likes</th>\n",
       "      <th>replies</th>\n",
       "      <th>retweets</th>\n",
       "      <th>text</th>\n",
       "      <th>timestamp</th>\n",
       "      <th>url</th>\n",
       "      <th>user</th>\n",
       "    </tr>\n",
       "  </thead>\n",
       "  <tbody>\n",
       "    <tr>\n",
       "      <th>100102</th>\n",
       "      <td>Roger Ver</td>\n",
       "      <td>&lt;p class=\"TweetTextSize js-tweet-text tweet-te...</td>\n",
       "      <td>969339323538604034</td>\n",
       "      <td>970</td>\n",
       "      <td>242.0</td>\n",
       "      <td>325.0</td>\n",
       "      <td>“You can order a @BitPay Card for $9.95 and pa...</td>\n",
       "      <td>2018-03-01T22:31:18</td>\n",
       "      <td>/rogerkver/status/969339323538604034</td>\n",
       "      <td>rogerkver</td>\n",
       "    </tr>\n",
       "    <tr>\n",
       "      <th>100119</th>\n",
       "      <td>#Bitcoin #News #BTC</td>\n",
       "      <td>&lt;p class=\"TweetTextSize js-tweet-text tweet-te...</td>\n",
       "      <td>969339280396111879</td>\n",
       "      <td>0</td>\n",
       "      <td>0.0</td>\n",
       "      <td>0.0</td>\n",
       "      <td>Regional US Bank Latest to Admit Cryptocurrenc...</td>\n",
       "      <td>2018-03-01T22:31:08</td>\n",
       "      <td>/1BitcoinNews/status/969339280396111879</td>\n",
       "      <td>1BitcoinNews</td>\n",
       "    </tr>\n",
       "    <tr>\n",
       "      <th>100126</th>\n",
       "      <td>John Jones</td>\n",
       "      <td>&lt;p class=\"TweetTextSize js-tweet-text tweet-te...</td>\n",
       "      <td>969339262855516162</td>\n",
       "      <td>0</td>\n",
       "      <td>0.0</td>\n",
       "      <td>0.0</td>\n",
       "      <td>Australians Can Now Purchase BTC, ETH Across 1...</td>\n",
       "      <td>2018-03-01T22:31:04</td>\n",
       "      <td>/Testie403/status/969339262855516162</td>\n",
       "      <td>Testie403</td>\n",
       "    </tr>\n",
       "    <tr>\n",
       "      <th>100127</th>\n",
       "      <td>@criptomonedas365</td>\n",
       "      <td>&lt;p class=\"TweetTextSize js-tweet-text tweet-te...</td>\n",
       "      <td>969339258719948800</td>\n",
       "      <td>0</td>\n",
       "      <td>0.0</td>\n",
       "      <td>0.0</td>\n",
       "      <td>Goldman Sachs sigue criticando a Bitcoin, pero...</td>\n",
       "      <td>2018-03-01T22:31:03</td>\n",
       "      <td>/cripto365/status/969339258719948800</td>\n",
       "      <td>cripto365</td>\n",
       "    </tr>\n",
       "    <tr>\n",
       "      <th>100136</th>\n",
       "      <td>Michael Afolayan</td>\n",
       "      <td>&lt;p class=\"TweetTextSize js-tweet-text tweet-te...</td>\n",
       "      <td>969339227367493634</td>\n",
       "      <td>0</td>\n",
       "      <td>0.0</td>\n",
       "      <td>0.0</td>\n",
       "      <td>Court in St. Petersburg Strikes Down Ban on Bi...</td>\n",
       "      <td>2018-03-01T22:30:55</td>\n",
       "      <td>/Theophelat/status/969339227367493634</td>\n",
       "      <td>Theophelat</td>\n",
       "    </tr>\n",
       "  </tbody>\n",
       "</table>\n",
       "</div>"
      ],
      "text/plain": [
       "                   fullname  \\\n",
       "100102            Roger Ver   \n",
       "100119  #Bitcoin #News #BTC   \n",
       "100126           John Jones   \n",
       "100127    @criptomonedas365   \n",
       "100136     Michael Afolayan   \n",
       "\n",
       "                                                     html                  id  \\\n",
       "100102  <p class=\"TweetTextSize js-tweet-text tweet-te...  969339323538604034   \n",
       "100119  <p class=\"TweetTextSize js-tweet-text tweet-te...  969339280396111879   \n",
       "100126  <p class=\"TweetTextSize js-tweet-text tweet-te...  969339262855516162   \n",
       "100127  <p class=\"TweetTextSize js-tweet-text tweet-te...  969339258719948800   \n",
       "100136  <p class=\"TweetTextSize js-tweet-text tweet-te...  969339227367493634   \n",
       "\n",
       "       likes  replies  retweets  \\\n",
       "100102   970    242.0     325.0   \n",
       "100119     0      0.0       0.0   \n",
       "100126     0      0.0       0.0   \n",
       "100127     0      0.0       0.0   \n",
       "100136     0      0.0       0.0   \n",
       "\n",
       "                                                     text  \\\n",
       "100102  “You can order a @BitPay Card for $9.95 and pa...   \n",
       "100119  Regional US Bank Latest to Admit Cryptocurrenc...   \n",
       "100126  Australians Can Now Purchase BTC, ETH Across 1...   \n",
       "100127  Goldman Sachs sigue criticando a Bitcoin, pero...   \n",
       "100136  Court in St. Petersburg Strikes Down Ban on Bi...   \n",
       "\n",
       "                  timestamp                                      url  \\\n",
       "100102  2018-03-01T22:31:18     /rogerkver/status/969339323538604034   \n",
       "100119  2018-03-01T22:31:08  /1BitcoinNews/status/969339280396111879   \n",
       "100126  2018-03-01T22:31:04     /Testie403/status/969339262855516162   \n",
       "100127  2018-03-01T22:31:03     /cripto365/status/969339258719948800   \n",
       "100136  2018-03-01T22:30:55    /Theophelat/status/969339227367493634   \n",
       "\n",
       "                user  \n",
       "100102     rogerkver  \n",
       "100119  1BitcoinNews  \n",
       "100126     Testie403  \n",
       "100127     cripto365  \n",
       "100136    Theophelat  "
      ]
     },
     "execution_count": 13,
     "metadata": {},
     "output_type": "execute_result"
    }
   ],
   "source": [
    "actual_df = df.iloc[filtered_df.index]\n",
    "proba_actual_df = df.iloc[proba_filtered_df.index]\n",
    "\n",
    "actual_df.tail()"
   ]
  },
  {
   "cell_type": "markdown",
   "metadata": {},
   "source": [
    "### Save filtered data"
   ]
  },
  {
   "cell_type": "code",
   "execution_count": 14,
   "metadata": {},
   "outputs": [],
   "source": [
    "actual_df.to_csv('dataset/csv/filter_dataset/filtered_dataset.csv', sep=',', index=False)\n",
    "proba_actual_df.to_csv('dataset/csv/filter_dataset/proba_filtered_dataset.csv', sep=',', index=False)"
   ]
  },
  {
   "cell_type": "code",
   "execution_count": 15,
   "metadata": {},
   "outputs": [
    {
     "name": "stdout",
     "output_type": "stream",
     "text": [
      "(11157, 10) (10773, 10)\n"
     ]
    }
   ],
   "source": [
    "print(actual_df.shape,proba_actual_df.shape)"
   ]
  },
  {
   "cell_type": "markdown",
   "metadata": {},
   "source": [
    "### Rough"
   ]
  },
  {
   "cell_type": "code",
   "execution_count": 16,
   "metadata": {},
   "outputs": [
    {
     "data": {
      "text/html": [
       "<div>\n",
       "<style scoped>\n",
       "    .dataframe tbody tr th:only-of-type {\n",
       "        vertical-align: middle;\n",
       "    }\n",
       "\n",
       "    .dataframe tbody tr th {\n",
       "        vertical-align: top;\n",
       "    }\n",
       "\n",
       "    .dataframe thead th {\n",
       "        text-align: right;\n",
       "    }\n",
       "</style>\n",
       "<table border=\"1\" class=\"dataframe\">\n",
       "  <thead>\n",
       "    <tr style=\"text-align: right;\">\n",
       "      <th></th>\n",
       "      <th>a</th>\n",
       "      <th>c</th>\n",
       "    </tr>\n",
       "  </thead>\n",
       "  <tbody>\n",
       "    <tr>\n",
       "      <th>1</th>\n",
       "      <td>ball</td>\n",
       "      <td>4</td>\n",
       "    </tr>\n",
       "    <tr>\n",
       "      <th>2</th>\n",
       "      <td>cat</td>\n",
       "      <td>5</td>\n",
       "    </tr>\n",
       "  </tbody>\n",
       "</table>\n",
       "</div>"
      ],
      "text/plain": [
       "      a  c\n",
       "1  ball  4\n",
       "2   cat  5"
      ]
     },
     "execution_count": 16,
     "metadata": {},
     "output_type": "execute_result"
    }
   ],
   "source": [
    "a=['apple','ball','cat','dog','elephant']\n",
    "c=[3,4,5,6,7]\n",
    "d=pd.DataFrame({'a':a})\n",
    "d['c']=c\n",
    "d['a']=d['a'].apply(lambda x:x if x.count('a')>0 else '')\n",
    "d[d['a']!='']\n",
    "d.iloc[[1,2]]"
   ]
  },
  {
   "cell_type": "code",
   "execution_count": null,
   "metadata": {},
   "outputs": [],
   "source": []
  },
  {
   "cell_type": "code",
   "execution_count": null,
   "metadata": {},
   "outputs": [],
   "source": []
  }
 ],
 "metadata": {
  "kernelspec": {
   "display_name": "Python 3",
   "language": "python",
   "name": "python3"
  },
  "language_info": {
   "codemirror_mode": {
    "name": "ipython",
    "version": 3
   },
   "file_extension": ".py",
   "mimetype": "text/x-python",
   "name": "python",
   "nbconvert_exporter": "python",
   "pygments_lexer": "ipython3",
   "version": "3.6.4"
  }
 },
 "nbformat": 4,
 "nbformat_minor": 2
}
