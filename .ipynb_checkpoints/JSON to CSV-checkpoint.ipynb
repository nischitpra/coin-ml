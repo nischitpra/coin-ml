{
 "cells": [
  {
   "cell_type": "markdown",
   "metadata": {},
   "source": [
    "##### This project converts scrapted tweeter data saved as `JSON` to `CSV` that can be viewed by normal spreadsheet editors."
   ]
  },
  {
   "cell_type": "code",
   "execution_count": 1,
   "metadata": {},
   "outputs": [],
   "source": [
    "import codecs,json"
   ]
  },
  {
   "cell_type": "code",
   "execution_count": 2,
   "metadata": {},
   "outputs": [],
   "source": [
    "with codecs.open('btc_2.json','r','utf-8') as f:\n",
    "    tweets=json.load(f,encoding='utf-8')"
   ]
  },
  {
   "cell_type": "code",
   "execution_count": 3,
   "metadata": {},
   "outputs": [
    {
     "name": "stdout",
     "output_type": "stream",
     "text": [
      "{'id': '971535968216993792', 'text': 'Israeli cybersecurity and fin-tech: Two sides of the same bitcoin http://www.jpost.com/Jpost-Tech/Business-and-Innovation/Israeli-cybersecurity-and-fin-tech-Two-sides-of-the-same-bitcoin-544482\\xa0…', 'replies': '0', 'user': 'jmescoda', 'likes': '0', 'url': '/jmescoda/status/971535968216993792', 'timestamp': '2018-03-07T23:59:59', 'retweets': '0', 'fullname': 'Josep Maria Escoda', 'html': '<p class=\"TweetTextSize js-tweet-text tweet-text\" data-aria-label-part=\"0\" lang=\"en\">Israeli cybersecurity and fin-tech: Two sides of the same <strong>bitcoin</strong> <a class=\"twitter-timeline-link u-hidden\" data-expanded-url=\"http://www.jpost.com/Jpost-Tech/Business-and-Innovation/Israeli-cybersecurity-and-fin-tech-Two-sides-of-the-same-bitcoin-544482\" dir=\"ltr\" href=\"https://t.co/6K6emPHZwH\" rel=\"nofollow noopener\" target=\"_blank\" title=\"http://www.jpost.com/Jpost-Tech/Business-and-Innovation/Israeli-cybersecurity-and-fin-tech-Two-sides-of-the-same-bitcoin-544482\"><span class=\"tco-ellipsis\"></span><span class=\"invisible\">http://www.</span><span class=\"js-display-url\">jpost.com/Jpost-Tech/Bus</span><span class=\"invisible\">iness-and-Innovation/Israeli-cybersecurity-and-fin-tech-Two-sides-of-the-same-bitcoin-544482</span><span class=\"tco-ellipsis\"><span class=\"invisible\">\\xa0</span>…</span></a></p>'}\n"
     ]
    }
   ],
   "source": [
    "print(tweets[0])"
   ]
  },
  {
   "cell_type": "code",
   "execution_count": 4,
   "metadata": {},
   "outputs": [
    {
     "name": "stdout",
     "output_type": "stream",
     "text": [
      "290196\n"
     ]
    }
   ],
   "source": [
    "print(tweets.__len__())"
   ]
  },
  {
   "cell_type": "code",
   "execution_count": 5,
   "metadata": {},
   "outputs": [],
   "source": [
    "import pandas as pd\n",
    "from collections import OrderedDict\n",
    "from datetime import date"
   ]
  },
  {
   "cell_type": "code",
   "execution_count": 6,
   "metadata": {},
   "outputs": [],
   "source": [
    "df = pd.DataFrame(tweets)"
   ]
  },
  {
   "cell_type": "code",
   "execution_count": 7,
   "metadata": {
    "scrolled": false
   },
   "outputs": [
    {
     "data": {
      "text/html": [
       "<div>\n",
       "<style scoped>\n",
       "    .dataframe tbody tr th:only-of-type {\n",
       "        vertical-align: middle;\n",
       "    }\n",
       "\n",
       "    .dataframe tbody tr th {\n",
       "        vertical-align: top;\n",
       "    }\n",
       "\n",
       "    .dataframe thead th {\n",
       "        text-align: right;\n",
       "    }\n",
       "</style>\n",
       "<table border=\"1\" class=\"dataframe\">\n",
       "  <thead>\n",
       "    <tr style=\"text-align: right;\">\n",
       "      <th></th>\n",
       "      <th>timestamp</th>\n",
       "      <th>user</th>\n",
       "      <th>text</th>\n",
       "      <th>retweets</th>\n",
       "      <th>replies</th>\n",
       "      <th>likes</th>\n",
       "    </tr>\n",
       "  </thead>\n",
       "  <tbody>\n",
       "    <tr>\n",
       "      <th>290191</th>\n",
       "      <td>2018-03-06T00:00:00</td>\n",
       "      <td>CryptoGulp</td>\n",
       "      <td>Top 5 Cryptocurrencies Prices\\n\\nBitcoin $BTC:...</td>\n",
       "      <td>1</td>\n",
       "      <td>0</td>\n",
       "      <td>1</td>\n",
       "    </tr>\n",
       "    <tr>\n",
       "      <th>290192</th>\n",
       "      <td>2018-03-06T00:00:00</td>\n",
       "      <td>LaMarkazia</td>\n",
       "      <td>أخر أسعار العملات المشفرة\\n\\n٭ $BTC بـ 11,586....</td>\n",
       "      <td>0</td>\n",
       "      <td>0</td>\n",
       "      <td>1</td>\n",
       "    </tr>\n",
       "    <tr>\n",
       "      <th>290193</th>\n",
       "      <td>2018-03-06T00:00:00</td>\n",
       "      <td>coinyfees</td>\n",
       "      <td>20 min 26 sat/B ($0.68)\\n40 min 11 sat/B ($0.2...</td>\n",
       "      <td>0</td>\n",
       "      <td>0</td>\n",
       "      <td>0</td>\n",
       "    </tr>\n",
       "    <tr>\n",
       "      <th>290194</th>\n",
       "      <td>2018-03-06T00:00:00</td>\n",
       "      <td>ru_tradingview</td>\n",
       "      <td>$BTCUSD - 05.03.2018 Обзор монеты Bitcoin  - h...</td>\n",
       "      <td>0</td>\n",
       "      <td>0</td>\n",
       "      <td>0</td>\n",
       "    </tr>\n",
       "    <tr>\n",
       "      <th>290195</th>\n",
       "      <td>2018-03-06T00:00:00</td>\n",
       "      <td>CoinSignalBot</td>\n",
       "      <td>5 min #RSI Signals:\\n\\n$BTC - $FAIR: 3.12\\n$BT...</td>\n",
       "      <td>2</td>\n",
       "      <td>0</td>\n",
       "      <td>4</td>\n",
       "    </tr>\n",
       "  </tbody>\n",
       "</table>\n",
       "</div>"
      ],
      "text/plain": [
       "                  timestamp            user  \\\n",
       "290191  2018-03-06T00:00:00      CryptoGulp   \n",
       "290192  2018-03-06T00:00:00      LaMarkazia   \n",
       "290193  2018-03-06T00:00:00       coinyfees   \n",
       "290194  2018-03-06T00:00:00  ru_tradingview   \n",
       "290195  2018-03-06T00:00:00   CoinSignalBot   \n",
       "\n",
       "                                                     text retweets replies  \\\n",
       "290191  Top 5 Cryptocurrencies Prices\\n\\nBitcoin $BTC:...        1       0   \n",
       "290192  أخر أسعار العملات المشفرة\\n\\n٭ $BTC بـ 11,586....        0       0   \n",
       "290193  20 min 26 sat/B ($0.68)\\n40 min 11 sat/B ($0.2...        0       0   \n",
       "290194  $BTCUSD - 05.03.2018 Обзор монеты Bitcoin  - h...        0       0   \n",
       "290195  5 min #RSI Signals:\\n\\n$BTC - $FAIR: 3.12\\n$BT...        2       0   \n",
       "\n",
       "       likes  \n",
       "290191     1  \n",
       "290192     1  \n",
       "290193     0  \n",
       "290194     0  \n",
       "290195     4  "
      ]
     },
     "execution_count": 7,
     "metadata": {},
     "output_type": "execute_result"
    }
   ],
   "source": [
    "df[['timestamp','user','text','retweets','replies','likes']].tail()"
   ]
  },
  {
   "cell_type": "code",
   "execution_count": 8,
   "metadata": {},
   "outputs": [
    {
     "name": "stdout",
     "output_type": "stream",
     "text": [
      "done\n"
     ]
    }
   ],
   "source": [
    "size=290195\n",
    "steps=(int)(df.values.shape[0]/size)+1\n",
    "for i in range(steps):\n",
    "    tempDf = df.iloc[i*size:i*size+size]\n",
    "    tempDf.to_csv('csv/t_{}.csv'.format(i), sep=',', encoding='utf-8')\n",
    "\n",
    "print('done')\n",
    "# sub for sub in df.values\n",
    "# df.to_csv('t_1.csv', sep=',', encoding='utf-8')"
   ]
  },
  {
   "cell_type": "markdown",
   "metadata": {},
   "source": []
  },
  {
   "cell_type": "code",
   "execution_count": null,
   "metadata": {},
   "outputs": [],
   "source": []
  },
  {
   "cell_type": "code",
   "execution_count": null,
   "metadata": {},
   "outputs": [],
   "source": []
  }
 ],
 "metadata": {
  "kernelspec": {
   "display_name": "Python 3",
   "language": "python",
   "name": "python3"
  },
  "language_info": {
   "codemirror_mode": {
    "name": "ipython",
    "version": 3
   },
   "file_extension": ".py",
   "mimetype": "text/x-python",
   "name": "python",
   "nbconvert_exporter": "python",
   "pygments_lexer": "ipython3",
   "version": "3.6.4"
  }
 },
 "nbformat": 4,
 "nbformat_minor": 2
}
