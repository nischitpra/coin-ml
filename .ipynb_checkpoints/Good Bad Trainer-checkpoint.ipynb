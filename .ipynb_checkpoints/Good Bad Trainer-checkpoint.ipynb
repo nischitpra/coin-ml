{
 "cells": [
  {
   "cell_type": "code",
   "execution_count": 1,
   "metadata": {},
   "outputs": [],
   "source": [
    "import tensorflow as tf\n",
    "import re\n",
    "from pprint import pprint\n",
    "import pandas as pd\n",
    "import numpy as np\n",
    "from sklearn.metrics import confusion_matrix\n",
    "from sklearn.pipeline import make_pipeline\n",
    "from sklearn.feature_extraction.text import CountVectorizer,TfidfTransformer\n",
    "from sklearn.decomposition import TruncatedSVD\n",
    "from sklearn.preprocessing import Normalizer\n",
    "from sklearn.neural_network import MLPClassifier\n",
    "import pickle\n",
    "from os import listdir\n",
    "from nltk.corpus import stopwords\n",
    "from nltk.stem.snowball import EnglishStemmer\n",
    "\n",
    "import matplotlib.pyplot as plot\n",
    "\n",
    "tf.logging.set_verbosity(tf.logging.WARN)"
   ]
  },
  {
   "cell_type": "code",
   "execution_count": 2,
   "metadata": {},
   "outputs": [
    {
     "name": "stdout",
     "output_type": "stream",
     "text": [
      "['i', 'me', 'my', 'myself', 'we', 'our', 'ours', 'ourselves', 'you', \"you're\", \"you've\", \"you'll\", \"you'd\", 'your', 'yours', 'yourself', 'yourselves', 'he', 'him', 'his', 'himself', 'she', \"she's\", 'her', 'hers', 'herself', 'it', \"it's\", 'its', 'itself', 'they', 'them', 'their', 'theirs', 'themselves', 'what', 'which', 'who', 'whom', 'this', 'that', \"that'll\", 'these', 'those', 'am', 'is', 'are', 'was', 'were', 'be', 'been', 'being', 'have', 'has', 'had', 'having', 'do', 'does', 'did', 'doing', 'a', 'an', 'the', 'and', 'but', 'if', 'or', 'because', 'as', 'until', 'while', 'of', 'at', 'by', 'for', 'with', 'about', 'against', 'between', 'into', 'through', 'during', 'before', 'after', 'above', 'below', 'to', 'from', 'up', 'down', 'in', 'out', 'on', 'off', 'over', 'under', 'again', 'further', 'then', 'once', 'here', 'there', 'when', 'where', 'why', 'how', 'all', 'any', 'both', 'each', 'few', 'more', 'most', 'other', 'some', 'such', 'no', 'nor', 'not', 'only', 'own', 'same', 'so', 'than', 'too', 'very', 's', 't', 'can', 'will', 'just', 'don', \"don't\", 'should', \"should've\", 'now', 'd', 'll', 'm', 'o', 're', 've', 'y', 'ain', 'aren', \"aren't\", 'couldn', \"couldn't\", 'didn', \"didn't\", 'doesn', \"doesn't\", 'hadn', \"hadn't\", 'hasn', \"hasn't\", 'haven', \"haven't\", 'isn', \"isn't\", 'ma', 'mightn', \"mightn't\", 'mustn', \"mustn't\", 'needn', \"needn't\", 'shan', \"shan't\", 'shouldn', \"shouldn't\", 'wasn', \"wasn't\", 'weren', \"weren't\", 'won', \"won't\", 'wouldn', \"wouldn't\", 'to', 'and', 'http', 'https', 'com', 'co', 'www']\n"
     ]
    }
   ],
   "source": [
    "stemmer = EnglishStemmer()\n",
    "stop_words = stopwords.words('english')\n",
    "my_stop_words='to and http https com co www'\n",
    "stop_words=stop_words+my_stop_words.split()\n",
    "print(stop_words)"
   ]
  },
  {
   "cell_type": "markdown",
   "metadata": {},
   "source": [
    "### Preprocess"
   ]
  },
  {
   "cell_type": "code",
   "execution_count": 3,
   "metadata": {},
   "outputs": [],
   "source": [
    "def preprocess(text):\n",
    "    text=[tweet.lower() for tweet in text if tweet.count('#')<=3]\n",
    "    text=[re.sub('[^ ]+\\.[^ ]+','',tweet) for tweet in text]\n",
    "#     text=[re.sub('#[^ ]+','',tweet) for tweet in text]\n",
    "    text=[re.sub('[^a-zA-Z0-9.!? ]',' ',(tweet)) for tweet in text]\n",
    "    text=[' '.join([word for word in tweet.strip().split() if word not in stop_words]) for tweet in text]\n",
    "    text=[stemmer.stem(tweet.strip()) for tweet in text]\n",
    "#     return list(set(text))\n",
    "    return text"
   ]
  },
  {
   "cell_type": "markdown",
   "metadata": {},
   "source": [
    "### Load Good and Bad"
   ]
  },
  {
   "cell_type": "code",
   "execution_count": 18,
   "metadata": {},
   "outputs": [
    {
     "name": "stdout",
     "output_type": "stream",
     "text": [
      "(3093,) (11228, 1) (2694,) (11228, 1) (1478,) (11228, 1) (3963,) (11228, 1)\n"
     ]
    }
   ],
   "source": [
    "# x_good=pd.Index(preprocess(pd.read_csv('dataset/csv/good_bad/good.csv').values.ravel()))\n",
    "# x_bad=pd.Index(preprocess(pd.read_csv('dataset/csv/good_bad/bad.csv').values.ravel()))\n",
    "x_good=pd.Index(preprocess(pd.read_csv('dataset/csv/good_bad/final_dset/good.csv').values.ravel()))\n",
    "x_bad=pd.Index(preprocess(pd.read_csv('dataset/csv/good_bad/final_dset/bad.csv').values.ravel()))\n",
    "x_onews=pd.Index(preprocess(pd.read_csv('dataset/csv/good_bad/final_dset/other_news.csv').values.ravel()))\n",
    "x_spam=pd.Index(preprocess(pd.read_csv('dataset/csv/good_bad/final_dset/spam.csv').values.ravel()))\n",
    "x_less_good=pd.Index(preprocess(pd.read_csv('dataset/csv/good_bad/final_dset/less_good.csv').values.ravel()))\n",
    "\n",
    "\n",
    "y_good = np.concatenate((np.ones((x_good.shape[0],1)),np.zeros((x_bad.shape[0]+x_onews.shape[0]+x_spam.shape[0]+x_less_good.shape[0],1))),axis=0)\n",
    "y_bad = np.concatenate((np.zeros((x_good.shape[0],1)),np.ones((x_bad.shape[0],1)),np.zeros((x_onews.shape[0],1)),np.zeros((x_spam.shape[0],1))),np.zeros((x_less_good.shape[0],1)),axis=0)\n",
    "y_onews = np.concatenate((np.zeros((x_good.shape[0],1)),np.zeros((x_bad.shape[0],1)),np.ones((x_onews.shape[0],1)),np.zeros((x_spam.shape[0],1))),np.zeros((x_less_good.shape[0],1)),axis=0)\n",
    "y_spam = np.concatenate((np.zeros((x_good.shape[0],1)),np.zeros((x_bad.shape[0],1)),np.zeros((x_onews.shape[0],1)),np.ones((x_spam.shape[0],1))),np.zeros((x_less_good.shape[0],1)),axis=0)\n",
    "y_less_good = np.concatenate((np.zeros((x_good.shape[0],1)),np.zeros((x_bad.shape[0],1)),np.zeros((x_onews.shape[0],1)),np.zeros((x_spam.shape[0],1))),np.ones((x_less_good.shape[0],1)),axis=0)"
   ]
  },
  {
   "cell_type": "code",
   "execution_count": 19,
   "metadata": {},
   "outputs": [],
   "source": [
    "x_test=np.concatenate((x_good,x_bad,x_onews,x_spam),axis=0)\n",
    "x_train=np.concatenate((x_good,x_bad,x_onews,x_spam),axis=0)\n",
    "\n",
    "y_test=np.concatenate((y_good,y_bad,y_onews,y_spam),axis=1)\n",
    "y_train=np.concatenate((y_good,y_bad,y_onews,y_spam),axis=1)"
   ]
  },
  {
   "cell_type": "raw",
   "metadata": {},
   "source": [
    "plot.scatter(x_bad,x_good[0:x_bad.shape[0]])"
   ]
  },
  {
   "cell_type": "raw",
   "metadata": {},
   "source": [
    "plot.scatter(x_good[0:x_bad.shape[0]],x_bad)"
   ]
  },
  {
   "cell_type": "markdown",
   "metadata": {},
   "source": [
    "### Classifier"
   ]
  },
  {
   "cell_type": "code",
   "execution_count": 20,
   "metadata": {},
   "outputs": [],
   "source": [
    "# svd = TruncatedSVD(algorithm='randomized', n_components=1, n_iter=1, random_state=42, tol=0.0)\n",
    "\n",
    "nn=MLPClassifier(solver='lbfgs', alpha=1e-5,hidden_layer_sizes=(50,50), random_state=1)\n",
    "# classifier = make_pipeline(CountVectorizer(),TfidfTransformer(),svd,Normalizer(copy=False),nn)\n",
    "classifier = make_pipeline(CountVectorizer(ngram_range=(1, 3)),TfidfTransformer(),nn)"
   ]
  },
  {
   "cell_type": "code",
   "execution_count": 21,
   "metadata": {},
   "outputs": [
    {
     "name": "stdout",
     "output_type": "stream",
     "text": [
      "CPU times: user 1min 11s, sys: 4.96 s, total: 1min 16s\n",
      "Wall time: 1min 14s\n"
     ]
    },
    {
     "data": {
      "text/plain": [
       "Pipeline(memory=None,\n",
       "     steps=[('countvectorizer', CountVectorizer(analyzer='word', binary=False, decode_error='strict',\n",
       "        dtype=<class 'numpy.int64'>, encoding='utf-8', input='content',\n",
       "        lowercase=True, max_df=1.0, max_features=None, min_df=1,\n",
       "        ngram_range=(1, 3), preprocessor=None, stop_words=None,\n",
       "  ...      solver='lbfgs', tol=0.0001, validation_fraction=0.1, verbose=False,\n",
       "       warm_start=False))])"
      ]
     },
     "execution_count": 21,
     "metadata": {},
     "output_type": "execute_result"
    }
   ],
   "source": [
    "%time classifier.fit(x_train, y_train)"
   ]
  },
  {
   "cell_type": "markdown",
   "metadata": {},
   "source": [
    "### Prediction"
   ]
  },
  {
   "cell_type": "code",
   "execution_count": 22,
   "metadata": {},
   "outputs": [
    {
     "data": {
      "text/plain": [
       "array([[9.18337393e-01, 2.39062098e-05, 9.24325676e-03, 2.63848037e-02,\n",
       "        0.00000000e+00],\n",
       "       [1.05262935e-01, 6.49206299e-03, 3.29254526e-03, 3.41877005e-01,\n",
       "        3.00000000e+00],\n",
       "       [8.60825051e-01, 1.20682802e-03, 1.76800950e-03, 3.31167388e-02,\n",
       "        0.00000000e+00],\n",
       "       ...,\n",
       "       [8.51777689e-02, 6.42116057e-05, 3.48212481e-03, 7.42891596e-01,\n",
       "        3.00000000e+00],\n",
       "       [2.16401633e-02, 1.30918881e-06, 6.33435150e-04, 9.95770936e-01,\n",
       "        3.00000000e+00],\n",
       "       [3.44174097e-02, 2.29321006e-04, 9.41795630e-04, 9.35932943e-01,\n",
       "        3.00000000e+00]])"
      ]
     },
     "execution_count": 22,
     "metadata": {},
     "output_type": "execute_result"
    }
   ],
   "source": [
    "predicted = classifier.predict_proba(x_test)\n",
    "# predicted = predicted.reshape(predicted.shape[0],2)\n",
    "pred_index = np.argmax(predicted,axis=1).reshape(x_test.shape[0],1)\n",
    "# pred_index = np.argmax(predicted,axis=1).reshape(x_test.shape[0],1)\n",
    "\n",
    "np.concatenate((predicted,pred_index),axis=1)"
   ]
  },
  {
   "cell_type": "code",
   "execution_count": 23,
   "metadata": {},
   "outputs": [
    {
     "data": {
      "text/plain": [
       "0.9800498753117207"
      ]
     },
     "execution_count": 23,
     "metadata": {},
     "output_type": "execute_result"
    }
   ],
   "source": [
    "np.mean(pred_index == np.argmax(y_test,axis=1).reshape(x_test.shape[0],1))  "
   ]
  },
  {
   "cell_type": "code",
   "execution_count": 24,
   "metadata": {},
   "outputs": [
    {
     "name": "stdout",
     "output_type": "stream",
     "text": [
      "[[0 0]\n",
      " [0 3]\n",
      " [0 0]\n",
      " ...\n",
      " [3 3]\n",
      " [3 3]\n",
      " [3 3]]\n"
     ]
    }
   ],
   "source": [
    "print(np.hstack((np.argmax(y_test,axis=1).reshape(x_test.shape[0],1),pred_index)))"
   ]
  },
  {
   "cell_type": "markdown",
   "metadata": {},
   "source": [
    "### Confusion Matrix"
   ]
  },
  {
   "cell_type": "code",
   "execution_count": 25,
   "metadata": {},
   "outputs": [
    {
     "data": {
      "text/plain": [
       "array([[3029,   18,   26,   20],\n",
       "       [   1, 2672,    6,   15],\n",
       "       [  23,    4, 1435,   16],\n",
       "       [  39,   22,   34, 3868]])"
      ]
     },
     "execution_count": 25,
     "metadata": {},
     "output_type": "execute_result"
    }
   ],
   "source": [
    "confusion_matrix(np.argmax(y_test,axis=1).reshape(x_test.shape[0],1),pred_index)\n",
    "#\n",
    "#   true positive  |  false positive\n",
    "# _________________|________________\n",
    "#  false negative  | true negative\n",
    "#                  |"
   ]
  },
  {
   "cell_type": "markdown",
   "metadata": {},
   "source": [
    "### Test"
   ]
  },
  {
   "cell_type": "code",
   "execution_count": 26,
   "metadata": {},
   "outputs": [
    {
     "data": {
      "text/plain": [
       "['coinbase hires silicon valley dealmaker firm explores potential acquisitions ccn bitcoin ethereum ico blockchain cryptocurrency new']"
      ]
     },
     "execution_count": 26,
     "metadata": {},
     "output_type": "execute_result"
    }
   ],
   "source": [
    "new_text=[\"\"\"Coinbase Hires Silicon Valley Dealmaker as Firm Explores  Potential Acquisitions http://www.google.com/ - CCN: Bitcoin, Ethereum, ICO, Blockchain & Cryptocurrency News http://dlvr.it/QJwjKW pic.twitter.com/T8JLIwUsew\"\"\"]\n",
    "new_text=preprocess(new_text)\n",
    "new_text"
   ]
  },
  {
   "cell_type": "code",
   "execution_count": 28,
   "metadata": {},
   "outputs": [
    {
     "data": {
      "text/plain": [
       "array([[9.39474442e-01, 7.78418782e-05, 6.66474964e-03, 1.02518033e-02]])"
      ]
     },
     "execution_count": 28,
     "metadata": {},
     "output_type": "execute_result"
    }
   ],
   "source": [
    "classifier.predict_proba(new_text)"
   ]
  },
  {
   "cell_type": "markdown",
   "metadata": {},
   "source": [
    "### Save Trained Model"
   ]
  },
  {
   "cell_type": "code",
   "execution_count": 29,
   "metadata": {},
   "outputs": [],
   "source": [
    "filename = 'saved_classifier/good_bad_classifier.sav'\n",
    "pickle.dump(classifier, open(filename, 'wb'))"
   ]
  },
  {
   "cell_type": "code",
   "execution_count": 30,
   "metadata": {},
   "outputs": [
    {
     "name": "stdout",
     "output_type": "stream",
     "text": [
      "['coinbase hehe sec hires silicon valley dealmaker firm explores potential acquisitions ccn bitcoin ethereum ico blockchain cryptocurrency new']\n"
     ]
    }
   ],
   "source": [
    "new_text=[\"\"\"Coinbase    #we   #hehe        SEC                   Hires Silicon Valley Dealmaker as Firm Explores Potential Acquisitions - CCN: Bitcoin, Ethereum, ICO, Blockchain & Cryptocurrency News http://dlvr.it/QJwjKW pic.twitter.com/T8JLIwUsew\"\"\"]\n",
    "new_text=preprocess(new_text)\n",
    "print(new_text)"
   ]
  },
  {
   "cell_type": "code",
   "execution_count": null,
   "metadata": {},
   "outputs": [],
   "source": []
  },
  {
   "cell_type": "code",
   "execution_count": null,
   "metadata": {},
   "outputs": [],
   "source": []
  },
  {
   "cell_type": "code",
   "execution_count": null,
   "metadata": {},
   "outputs": [],
   "source": []
  },
  {
   "cell_type": "code",
   "execution_count": null,
   "metadata": {},
   "outputs": [],
   "source": []
  },
  {
   "cell_type": "code",
   "execution_count": null,
   "metadata": {},
   "outputs": [],
   "source": []
  },
  {
   "cell_type": "code",
   "execution_count": null,
   "metadata": {},
   "outputs": [],
   "source": []
  },
  {
   "cell_type": "code",
   "execution_count": null,
   "metadata": {},
   "outputs": [],
   "source": [
    "[{'text':'CBOE Nudges SEC to Allow Bitcoin ETFs in New Letter','timestamp':'Tue Mar 27 13:39:58 +0000 2018','index':0}]"
   ]
  },
  {
   "cell_type": "markdown",
   "metadata": {},
   "source": [
    "### Rough"
   ]
  },
  {
   "cell_type": "code",
   "execution_count": 115,
   "metadata": {},
   "outputs": [
    {
     "data": {
      "text/plain": [
       "['see sees sees run runs runs saw']"
      ]
     },
     "execution_count": 115,
     "metadata": {},
     "output_type": "execute_result"
    }
   ],
   "source": [
    "a=['see sees sees run runs runs saws']\n",
    "[stemmer.stem(w) for w in a]"
   ]
  },
  {
   "cell_type": "code",
   "execution_count": 11,
   "metadata": {},
   "outputs": [
    {
     "data": {
      "text/plain": [
       "array([[0., 0.]])"
      ]
     },
     "execution_count": 11,
     "metadata": {},
     "output_type": "execute_result"
    }
   ],
   "source": [
    "np.zeros((1,2))"
   ]
  },
  {
   "cell_type": "code",
   "execution_count": 497,
   "metadata": {},
   "outputs": [],
   "source": [
    "from datetime import datetime"
   ]
  },
  {
   "cell_type": "code",
   "execution_count": 502,
   "metadata": {},
   "outputs": [
    {
     "data": {
      "text/plain": [
       "datetime.datetime(2018, 3, 27, 13, 39, 58)"
      ]
     },
     "execution_count": 502,
     "metadata": {},
     "output_type": "execute_result"
    }
   ],
   "source": [
    "datetime.strptime('Tue Mar 27 13:39:58 +0000 2018','%a %b %d %H:%M:%S +0000 %Y')"
   ]
  },
  {
   "cell_type": "code",
   "execution_count": null,
   "metadata": {},
   "outputs": [],
   "source": []
  },
  {
   "cell_type": "code",
   "execution_count": null,
   "metadata": {},
   "outputs": [],
   "source": []
  }
 ],
 "metadata": {
  "kernelspec": {
   "display_name": "Python 3",
   "language": "python",
   "name": "python3"
  },
  "language_info": {
   "codemirror_mode": {
    "name": "ipython",
    "version": 3
   },
   "file_extension": ".py",
   "mimetype": "text/x-python",
   "name": "python",
   "nbconvert_exporter": "python",
   "pygments_lexer": "ipython3",
   "version": "3.6.4"
  }
 },
 "nbformat": 4,
 "nbformat_minor": 2
}
