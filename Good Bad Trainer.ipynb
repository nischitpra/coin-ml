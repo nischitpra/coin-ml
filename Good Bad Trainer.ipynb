{
 "cells": [
  {
   "cell_type": "code",
   "execution_count": 3,
   "metadata": {},
   "outputs": [],
   "source": [
    "import tensorflow as tf\n",
    "import re\n",
    "from pprint import pprint\n",
    "import pandas as pd\n",
    "import numpy as np\n",
    "from sklearn.metrics import confusion_matrix\n",
    "from sklearn.pipeline import make_pipeline\n",
    "from sklearn.feature_extraction.text import CountVectorizer,TfidfTransformer\n",
    "from sklearn.decomposition import TruncatedSVD\n",
    "from sklearn.preprocessing import Normalizer\n",
    "from sklearn.neural_network import MLPClassifier\n",
    "import pickle\n",
    "from os import listdir\n",
    "from nltk.corpus import stopwords\n",
    "from nltk.stem.snowball import EnglishStemmer\n",
    "\n",
    "import matplotlib.pyplot as plot\n",
    "\n",
    "tf.logging.set_verbosity(tf.logging.WARN)"
   ]
  },
  {
   "cell_type": "code",
   "execution_count": 4,
   "metadata": {},
   "outputs": [
    {
     "name": "stdout",
     "output_type": "stream",
     "text": [
      "['i', 'me', 'my', 'myself', 'we', 'our', 'ours', 'ourselves', 'you', \"you're\", \"you've\", \"you'll\", \"you'd\", 'your', 'yours', 'yourself', 'yourselves', 'he', 'him', 'his', 'himself', 'she', \"she's\", 'her', 'hers', 'herself', 'it', \"it's\", 'its', 'itself', 'they', 'them', 'their', 'theirs', 'themselves', 'what', 'which', 'who', 'whom', 'this', 'that', \"that'll\", 'these', 'those', 'am', 'is', 'are', 'was', 'were', 'be', 'been', 'being', 'have', 'has', 'had', 'having', 'do', 'does', 'did', 'doing', 'a', 'an', 'the', 'and', 'but', 'if', 'or', 'because', 'as', 'until', 'while', 'of', 'at', 'by', 'for', 'with', 'about', 'against', 'between', 'into', 'through', 'during', 'before', 'after', 'above', 'below', 'to', 'from', 'up', 'down', 'in', 'out', 'on', 'off', 'over', 'under', 'again', 'further', 'then', 'once', 'here', 'there', 'when', 'where', 'why', 'how', 'all', 'any', 'both', 'each', 'few', 'more', 'most', 'other', 'some', 'such', 'no', 'nor', 'not', 'only', 'own', 'same', 'so', 'than', 'too', 'very', 's', 't', 'can', 'will', 'just', 'don', \"don't\", 'should', \"should've\", 'now', 'd', 'll', 'm', 'o', 're', 've', 'y', 'ain', 'aren', \"aren't\", 'couldn', \"couldn't\", 'didn', \"didn't\", 'doesn', \"doesn't\", 'hadn', \"hadn't\", 'hasn', \"hasn't\", 'haven', \"haven't\", 'isn', \"isn't\", 'ma', 'mightn', \"mightn't\", 'mustn', \"mustn't\", 'needn', \"needn't\", 'shan', \"shan't\", 'shouldn', \"shouldn't\", 'wasn', \"wasn't\", 'weren', \"weren't\", 'won', \"won't\", 'wouldn', \"wouldn't\", 'to', 'and', 'http', 'https', 'com', 'co', 'www']\n"
     ]
    }
   ],
   "source": [
    "stemmer = EnglishStemmer()\n",
    "stop_words = stopwords.words('english')\n",
    "my_stop_words='to and http https com co www'\n",
    "stop_words=stop_words+my_stop_words.split()\n",
    "print(stop_words)"
   ]
  },
  {
   "cell_type": "markdown",
   "metadata": {},
   "source": [
    "### Preprocess"
   ]
  },
  {
   "cell_type": "code",
   "execution_count": 5,
   "metadata": {},
   "outputs": [],
   "source": [
    "def preprocess(text):\n",
    "    text=[tweet.lower() for tweet in text if tweet.count('#')<=3]\n",
    "    text=[re.sub('[^ ]+\\.[^ ]+','',tweet) for tweet in text]\n",
    "#     text=[re.sub('#[^ ]+','',tweet) for tweet in text]\n",
    "    text=[re.sub('[^a-zA-Z0-9.!? ]',' ',(tweet)) for tweet in text]\n",
    "    text=[' '.join([word for word in tweet.strip().split() if word not in stop_words]) for tweet in text]\n",
    "    text=[stemmer.stem(tweet.strip()) for tweet in text]\n",
    "#     return list(set(text))\n",
    "    return text"
   ]
  },
  {
   "cell_type": "markdown",
   "metadata": {},
   "source": [
    "### Load Good and Bad"
   ]
  },
  {
   "cell_type": "code",
   "execution_count": 7,
   "metadata": {},
   "outputs": [],
   "source": [
    "# x_good=pd.Index(preprocess(pd.read_csv('dataset/csv/good_bad/good.csv').values.ravel()))\n",
    "# x_bad=pd.Index(preprocess(pd.read_csv('dataset/csv/good_bad/bad.csv').values.ravel()))\n",
    "x_good=pd.Index(preprocess(pd.read_csv('dataset/csv/good_bad/final_dset/good.csv').values.ravel()))\n",
    "x_bad=pd.Index(preprocess(pd.read_csv('dataset/csv/good_bad/final_dset/bad.csv').values.ravel()))\n",
    "x_onews=pd.Index(preprocess(pd.read_csv('dataset/csv/good_bad/final_dset/other_news.csv').values.ravel()))\n",
    "x_spam=pd.Index(preprocess(pd.read_csv('dataset/csv/good_bad/final_dset/spam.csv').values.ravel()))\n",
    "x_less_good=pd.Index(preprocess(pd.read_csv('dataset/csv/good_bad/final_dset/less_good.csv').values.ravel()))\n",
    "x_less_bad=pd.Index(preprocess(pd.read_csv('dataset/csv/good_bad/final_dset/less_bad.csv').values.ravel()))\n",
    "\n",
    "\n",
    "y_good = np.concatenate((np.ones((x_good.shape[0],1)),np.zeros((x_bad.shape[0]+x_onews.shape[0]+x_spam.shape[0]+x_less_good.shape[0]+x_less_bad.shape[0],1))),axis=0)\n",
    "y_bad = np.concatenate((np.zeros((x_good.shape[0],1)),np.ones((x_bad.shape[0],1)),np.zeros((x_onews.shape[0],1)),np.zeros((x_spam.shape[0],1)),np.zeros((x_less_good.shape[0],1)),np.zeros((x_less_bad.shape[0],1))),axis=0)\n",
    "y_onews = np.concatenate((np.zeros((x_good.shape[0],1)),np.zeros((x_bad.shape[0],1)),np.ones((x_onews.shape[0],1)),np.zeros((x_spam.shape[0],1)),np.zeros((x_less_good.shape[0],1)),np.zeros((x_less_bad.shape[0],1))),axis=0)\n",
    "y_spam = np.concatenate((np.zeros((x_good.shape[0],1)),np.zeros((x_bad.shape[0],1)),np.zeros((x_onews.shape[0],1)),np.ones((x_spam.shape[0],1)),np.zeros((x_less_good.shape[0],1)),np.zeros((x_less_bad.shape[0],1))),axis=0)\n",
    "y_less_good = np.concatenate((np.zeros((x_good.shape[0],1)),np.zeros((x_bad.shape[0],1)),np.zeros((x_onews.shape[0],1)),np.zeros((x_spam.shape[0],1)),np.ones((x_less_good.shape[0],1)),np.zeros((x_less_bad.shape[0],1))),axis=0)\n",
    "y_less_bad = np.concatenate((np.zeros((x_good.shape[0],1)),np.zeros((x_bad.shape[0],1)),np.zeros((x_onews.shape[0],1)),np.zeros((x_spam.shape[0],1)),np.zeros((x_less_good.shape[0],1)),np.ones((x_less_bad.shape[0],1))),axis=0)\n"
   ]
  },
  {
   "cell_type": "code",
   "execution_count": 8,
   "metadata": {},
   "outputs": [],
   "source": [
    "x_test=np.concatenate((x_good,x_bad,x_onews,x_spam,x_less_good,x_less_bad),axis=0)\n",
    "x_train=np.concatenate((x_good,x_bad,x_onews,x_spam,x_less_good,x_less_bad),axis=0)\n",
    "\n",
    "y_test=np.concatenate((y_good,y_bad,y_onews,y_spam,y_less_good,y_less_bad),axis=1)\n",
    "y_train=np.concatenate((y_good,y_bad,y_onews,y_spam,y_less_good,y_less_bad),axis=1)"
   ]
  },
  {
   "cell_type": "raw",
   "metadata": {},
   "source": [
    "plot.scatter(x_bad,x_good[0:x_bad.shape[0]])"
   ]
  },
  {
   "cell_type": "raw",
   "metadata": {},
   "source": [
    "plot.scatter(x_good[0:x_bad.shape[0]],x_bad)"
   ]
  },
  {
   "cell_type": "markdown",
   "metadata": {},
   "source": [
    "### Classifier"
   ]
  },
  {
   "cell_type": "code",
   "execution_count": 9,
   "metadata": {},
   "outputs": [],
   "source": [
    "# svd = TruncatedSVD(algorithm='randomized', n_components=1, n_iter=1, random_state=42, tol=0.0)\n",
    "\n",
    "nn=MLPClassifier(solver='lbfgs', alpha=1e-5,hidden_layer_sizes=(50,50), random_state=1)\n",
    "# classifier = make_pipeline(CountVectorizer(),TfidfTransformer(),svd,Normalizer(copy=False),nn)\n",
    "classifier = make_pipeline(CountVectorizer(ngram_range=(1, 3)),TfidfTransformer(),nn)"
   ]
  },
  {
   "cell_type": "code",
   "execution_count": 10,
   "metadata": {},
   "outputs": [
    {
     "name": "stdout",
     "output_type": "stream",
     "text": [
      "CPU times: user 1min 15s, sys: 6.02 s, total: 1min 21s\n",
      "Wall time: 1min 20s\n"
     ]
    },
    {
     "data": {
      "text/plain": [
       "Pipeline(memory=None,\n",
       "     steps=[('countvectorizer', CountVectorizer(analyzer='word', binary=False, decode_error='strict',\n",
       "        dtype=<class 'numpy.int64'>, encoding='utf-8', input='content',\n",
       "        lowercase=True, max_df=1.0, max_features=None, min_df=1,\n",
       "        ngram_range=(1, 3), preprocessor=None, stop_words=None,\n",
       "  ...      solver='lbfgs', tol=0.0001, validation_fraction=0.1, verbose=False,\n",
       "       warm_start=False))])"
      ]
     },
     "execution_count": 10,
     "metadata": {},
     "output_type": "execute_result"
    }
   ],
   "source": [
    "%time classifier.fit(x_train, y_train)"
   ]
  },
  {
   "cell_type": "markdown",
   "metadata": {},
   "source": [
    "### Prediction"
   ]
  },
  {
   "cell_type": "code",
   "execution_count": 11,
   "metadata": {},
   "outputs": [
    {
     "data": {
      "text/plain": [
       "array([[9.99999030e-01, 2.38830493e-05, 1.41422119e-06, ...,\n",
       "        5.76127049e-11, 4.14659322e-06, 0.00000000e+00],\n",
       "       [9.99996878e-01, 6.54333688e-04, 4.76365625e-08, ...,\n",
       "        4.14518789e-12, 2.96299192e-07, 0.00000000e+00],\n",
       "       [9.99999826e-01, 1.44033370e-06, 2.08139065e-08, ...,\n",
       "        3.38862547e-08, 3.86581272e-06, 0.00000000e+00],\n",
       "       ...,\n",
       "       [6.84446278e-06, 3.47827920e-07, 2.46715731e-04, ...,\n",
       "        2.13390821e-09, 9.99939700e-01, 5.00000000e+00],\n",
       "       [7.59386084e-05, 4.44864627e-01, 1.16670116e-07, ...,\n",
       "        4.57940920e-09, 4.98509206e-01, 5.00000000e+00],\n",
       "       [4.34697514e-06, 7.02188824e-06, 3.60657252e-06, ...,\n",
       "        6.58428729e-11, 9.99966939e-01, 5.00000000e+00]])"
      ]
     },
     "execution_count": 11,
     "metadata": {},
     "output_type": "execute_result"
    }
   ],
   "source": [
    "predicted = classifier.predict_proba(x_test)\n",
    "# predicted = predicted.reshape(predicted.shape[0],2)\n",
    "pred_index = np.argmax(predicted,axis=1).reshape(x_test.shape[0],1)\n",
    "# pred_index = np.argmax(predicted,axis=1).reshape(x_test.shape[0],1)\n",
    "\n",
    "np.concatenate((predicted,pred_index),axis=1)"
   ]
  },
  {
   "cell_type": "code",
   "execution_count": 12,
   "metadata": {},
   "outputs": [
    {
     "data": {
      "text/plain": [
       "0.9881535583860337"
      ]
     },
     "execution_count": 12,
     "metadata": {},
     "output_type": "execute_result"
    }
   ],
   "source": [
    "np.mean(pred_index == np.argmax(y_test,axis=1).reshape(x_test.shape[0],1))  "
   ]
  },
  {
   "cell_type": "code",
   "execution_count": 13,
   "metadata": {},
   "outputs": [
    {
     "name": "stdout",
     "output_type": "stream",
     "text": [
      "[[0 0]\n",
      " [0 0]\n",
      " [0 0]\n",
      " ...\n",
      " [5 5]\n",
      " [5 5]\n",
      " [5 5]]\n"
     ]
    }
   ],
   "source": [
    "print(np.hstack((np.argmax(y_test,axis=1).reshape(x_test.shape[0],1),pred_index)))"
   ]
  },
  {
   "cell_type": "markdown",
   "metadata": {},
   "source": [
    "### Confusion Matrix"
   ]
  },
  {
   "cell_type": "code",
   "execution_count": 14,
   "metadata": {},
   "outputs": [
    {
     "data": {
      "text/plain": [
       "array([[1490,    1,    3,    7,    1,    0],\n",
       "       [   3, 1419,    3,    7,    0,   15],\n",
       "       [   0,    3, 1716,   20,    6,    1],\n",
       "       [   5,    3,   15, 4061,    3,    5],\n",
       "       [   2,    1,    8,    9, 1415,    0],\n",
       "       [   2,    5,    0,    5,    0,  993]])"
      ]
     },
     "execution_count": 14,
     "metadata": {},
     "output_type": "execute_result"
    }
   ],
   "source": [
    "confusion_matrix(np.argmax(y_test,axis=1).reshape(x_test.shape[0],1),pred_index)\n",
    "#\n",
    "#   true positive  |  false positive\n",
    "# _________________|________________\n",
    "#  false negative  | true negative\n",
    "#                  |"
   ]
  },
  {
   "cell_type": "markdown",
   "metadata": {},
   "source": [
    "### Test"
   ]
  },
  {
   "cell_type": "code",
   "execution_count": 15,
   "metadata": {},
   "outputs": [
    {
     "data": {
      "text/plain": [
       "['coinbase hires silicon valley dealmaker firm explores potential acquisitions ccn bitcoin ethereum ico blockchain cryptocurrency new']"
      ]
     },
     "execution_count": 15,
     "metadata": {},
     "output_type": "execute_result"
    }
   ],
   "source": [
    "new_text=[\"\"\"Coinbase Hires Silicon Valley Dealmaker as Firm Explores  Potential Acquisitions http://www.google.com/ - CCN: Bitcoin, Ethereum, ICO, Blockchain & Cryptocurrency News http://dlvr.it/QJwjKW pic.twitter.com/T8JLIwUsew\"\"\"]\n",
    "new_text=preprocess(new_text)\n",
    "new_text"
   ]
  },
  {
   "cell_type": "code",
   "execution_count": 16,
   "metadata": {},
   "outputs": [
    {
     "data": {
      "text/plain": [
       "array([[9.14341929e-07, 2.70664534e-08, 7.09825593e-05, 4.85531802e-04,\n",
       "        1.78769039e-01, 6.12167174e-06]])"
      ]
     },
     "execution_count": 16,
     "metadata": {},
     "output_type": "execute_result"
    }
   ],
   "source": [
    "classifier.predict_proba(new_text)"
   ]
  },
  {
   "cell_type": "markdown",
   "metadata": {},
   "source": [
    "### Save Trained Model"
   ]
  },
  {
   "cell_type": "code",
   "execution_count": 17,
   "metadata": {},
   "outputs": [],
   "source": [
    "filename = 'saved_classifier/good_bad_classifier.sav'\n",
    "pickle.dump(classifier, open(filename, 'wb'))"
   ]
  },
  {
   "cell_type": "code",
   "execution_count": 18,
   "metadata": {},
   "outputs": [
    {
     "name": "stdout",
     "output_type": "stream",
     "text": [
      "['coinbase hehe sec hires silicon valley dealmaker firm explores potential acquisitions ccn bitcoin ethereum ico blockchain cryptocurrency new']\n"
     ]
    }
   ],
   "source": [
    "new_text=[\"\"\"Coinbase    #we   #hehe        SEC                   Hires Silicon Valley Dealmaker as Firm Explores Potential Acquisitions - CCN: Bitcoin, Ethereum, ICO, Blockchain & Cryptocurrency News http://dlvr.it/QJwjKW pic.twitter.com/T8JLIwUsew\"\"\"]\n",
    "new_text=preprocess(new_text)\n",
    "print(new_text)"
   ]
  },
  {
   "cell_type": "code",
   "execution_count": null,
   "metadata": {},
   "outputs": [],
   "source": []
  },
  {
   "cell_type": "code",
   "execution_count": null,
   "metadata": {},
   "outputs": [],
   "source": []
  },
  {
   "cell_type": "code",
   "execution_count": null,
   "metadata": {},
   "outputs": [],
   "source": []
  },
  {
   "cell_type": "code",
   "execution_count": null,
   "metadata": {},
   "outputs": [],
   "source": []
  },
  {
   "cell_type": "code",
   "execution_count": null,
   "metadata": {},
   "outputs": [],
   "source": []
  },
  {
   "cell_type": "code",
   "execution_count": null,
   "metadata": {},
   "outputs": [],
   "source": []
  },
  {
   "cell_type": "code",
   "execution_count": null,
   "metadata": {},
   "outputs": [],
   "source": [
    "[{'text':'CBOE Nudges SEC to Allow Bitcoin ETFs in New Letter','timestamp':'Tue Mar 27 13:39:58 +0000 2018','index':0}]"
   ]
  },
  {
   "cell_type": "markdown",
   "metadata": {},
   "source": [
    "### Rough"
   ]
  },
  {
   "cell_type": "code",
   "execution_count": 115,
   "metadata": {},
   "outputs": [
    {
     "data": {
      "text/plain": [
       "['see sees sees run runs runs saw']"
      ]
     },
     "execution_count": 115,
     "metadata": {},
     "output_type": "execute_result"
    }
   ],
   "source": [
    "a=['see sees sees run runs runs saws']\n",
    "[stemmer.stem(w) for w in a]"
   ]
  },
  {
   "cell_type": "code",
   "execution_count": 11,
   "metadata": {},
   "outputs": [
    {
     "data": {
      "text/plain": [
       "array([[0., 0.]])"
      ]
     },
     "execution_count": 11,
     "metadata": {},
     "output_type": "execute_result"
    }
   ],
   "source": [
    "np.zeros((1,2))"
   ]
  },
  {
   "cell_type": "code",
   "execution_count": 497,
   "metadata": {},
   "outputs": [],
   "source": [
    "from datetime import datetime"
   ]
  },
  {
   "cell_type": "code",
   "execution_count": 502,
   "metadata": {},
   "outputs": [
    {
     "data": {
      "text/plain": [
       "datetime.datetime(2018, 3, 27, 13, 39, 58)"
      ]
     },
     "execution_count": 502,
     "metadata": {},
     "output_type": "execute_result"
    }
   ],
   "source": [
    "datetime.strptime('Tue Mar 27 13:39:58 +0000 2018','%a %b %d %H:%M:%S +0000 %Y')"
   ]
  },
  {
   "cell_type": "code",
   "execution_count": null,
   "metadata": {},
   "outputs": [],
   "source": []
  },
  {
   "cell_type": "code",
   "execution_count": null,
   "metadata": {},
   "outputs": [],
   "source": []
  }
 ],
 "metadata": {
  "kernelspec": {
   "display_name": "Python 3",
   "language": "python",
   "name": "python3"
  },
  "language_info": {
   "codemirror_mode": {
    "name": "ipython",
    "version": 3
   },
   "file_extension": ".py",
   "mimetype": "text/x-python",
   "name": "python",
   "nbconvert_exporter": "python",
   "pygments_lexer": "ipython3",
   "version": "3.6.4"
  }
 },
 "nbformat": 4,
 "nbformat_minor": 2
}
