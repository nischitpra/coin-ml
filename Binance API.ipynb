{
 "cells": [
  {
   "cell_type": "markdown",
   "metadata": {},
   "source": [
    "# Candle Stick"
   ]
  },
  {
   "cell_type": "markdown",
   "metadata": {},
   "source": [
    "    params (key,isNew)\n",
    "    key : XRP_BTC_1h\n",
    "    isNew : True/False"
   ]
  },
  {
   "cell_type": "code",
   "execution_count": null,
   "metadata": {},
   "outputs": [],
   "source": [
    "import pandas as pd\n",
    "import sys\n",
    "from pymongo import MongoClient\n",
    "\n",
    "base_path='/Users/oyo/Desktop/awesome/tweets/'\n",
    "\n",
    "client = MongoClient()\n",
    "client = MongoClient('localhost', 27017)\n",
    "db = client.coins\n",
    "\n",
    "key=sys.argv[1]\n",
    "isNew=sys.argv[2]\n",
    "\n",
    "df=pd.DataFrame(list(db.candlestick_dump.find()))\n",
    "df.columns = ['_id', 'open','high','low','close','volume','close_time','quote_asset_volume','number_of_trades','taker_buy_base_asset_volume','taker_buy_quote_asset_volume','Ignore']\n",
    "df=df.drop(['close_time','Ignore'],axis=1)\n",
    "\n",
    "if isNew:\n",
    "    entryTime=db[key].find({}).sort('_id',-1).limit(1).next()['_id']\n",
    "    df=df[df['_id']>entryTime]\n",
    "else:\n",
    "    entryTime=db[key].find({}).sort('_id',1).limit(1).next()['_id']\n",
    "    df=df[df['_id']<entryTime]\n",
    "    \n",
    "db[key].insert_many(df.to_dict(orient='records'))\n",
    "db.candlestick_dump.drop()\n",
    "\n",
    "print('ok'.format(df.shape[0]))\n",
    "sys.stdout.flush()"
   ]
  },
  {
   "cell_type": "markdown",
   "metadata": {},
   "source": []
  },
  {
   "cell_type": "code",
   "execution_count": 33,
   "metadata": {},
   "outputs": [],
   "source": []
  },
  {
   "cell_type": "code",
   "execution_count": 39,
   "metadata": {},
   "outputs": [
    {
     "data": {
      "text/html": [
       "<div>\n",
       "<style scoped>\n",
       "    .dataframe tbody tr th:only-of-type {\n",
       "        vertical-align: middle;\n",
       "    }\n",
       "\n",
       "    .dataframe tbody tr th {\n",
       "        vertical-align: top;\n",
       "    }\n",
       "\n",
       "    .dataframe thead th {\n",
       "        text-align: right;\n",
       "    }\n",
       "</style>\n",
       "<table border=\"1\" class=\"dataframe\">\n",
       "  <thead>\n",
       "    <tr style=\"text-align: right;\">\n",
       "      <th></th>\n",
       "      <th>_id</th>\n",
       "      <th>open</th>\n",
       "      <th>high</th>\n",
       "      <th>low</th>\n",
       "      <th>close</th>\n",
       "      <th>volume</th>\n",
       "      <th>quote_asset_volume</th>\n",
       "      <th>number_of_trades</th>\n",
       "      <th>taker_buy_base_asset_volume</th>\n",
       "      <th>taker_buy_quote_asset_volume</th>\n",
       "    </tr>\n",
       "  </thead>\n",
       "  <tbody>\n",
       "  </tbody>\n",
       "</table>\n",
       "</div>"
      ],
      "text/plain": [
       "Empty DataFrame\n",
       "Columns: [_id, open, high, low, close, volume, quote_asset_volume, number_of_trades, taker_buy_base_asset_volume, taker_buy_quote_asset_volume]\n",
       "Index: []"
      ]
     },
     "execution_count": 39,
     "metadata": {},
     "output_type": "execute_result"
    }
   ],
   "source": []
  },
  {
   "cell_type": "code",
   "execution_count": null,
   "metadata": {},
   "outputs": [],
   "source": []
  }
 ],
 "metadata": {
  "kernelspec": {
   "display_name": "Python 3",
   "language": "python",
   "name": "python3"
  },
  "language_info": {
   "codemirror_mode": {
    "name": "ipython",
    "version": 3
   },
   "file_extension": ".py",
   "mimetype": "text/x-python",
   "name": "python",
   "nbconvert_exporter": "python",
   "pygments_lexer": "ipython3",
   "version": "3.6.4"
  }
 },
 "nbformat": 4,
 "nbformat_minor": 2
}
