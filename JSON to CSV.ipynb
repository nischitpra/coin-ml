{
 "cells": [
  {
   "cell_type": "markdown",
   "metadata": {},
   "source": [
    "##### This project converts scrapted tweeter data saved as `JSON` to `CSV` that can be viewed by normal spreadsheet editors."
   ]
  },
  {
   "cell_type": "code",
   "execution_count": 1,
   "metadata": {},
   "outputs": [],
   "source": [
    "import codecs,json"
   ]
  },
  {
   "cell_type": "code",
   "execution_count": 2,
   "metadata": {},
   "outputs": [],
   "source": [
    "file_name='bitcoin_full_3'"
   ]
  },
  {
   "cell_type": "code",
   "execution_count": 3,
   "metadata": {},
   "outputs": [],
   "source": [
    "with codecs.open('dataset/json/{}.json'.format(file_name),'r','utf-8') as f:\n",
    "    tweets=json.load(f,encoding='utf-8')"
   ]
  },
  {
   "cell_type": "code",
   "execution_count": 4,
   "metadata": {},
   "outputs": [
    {
     "name": "stdout",
     "output_type": "stream",
     "text": [
      "{'replies': '0', 'fullname': 'Bitcoin_Friend', 'id': '865990254632644608', 'html': '<p class=\"TweetTextSize js-tweet-text tweet-text\" data-aria-label-part=\"0\" lang=\"en\">The <a class=\"twitter-hashtag pretty-link js-nav\" data-query-source=\"hashtag_click\" dir=\"ltr\" href=\"/hashtag/Bitcoin?src=hash\"><s>#</s><b><strong>Bitcoin</strong></b></a> Ecosystem. <a class=\"twitter-hashtag pretty-link js-nav\" data-query-source=\"hashtag_click\" dir=\"ltr\" href=\"/hashtag/Blockchain?src=hash\"><s>#</s><b>Blockchain</b></a> <a class=\"twitter-hashtag pretty-link js-nav\" data-query-source=\"hashtag_click\" dir=\"ltr\" href=\"/hashtag/Fintech?src=hash\"><s>#</s><b>Fintech</b></a> <a class=\"twitter-hashtag pretty-link js-nav\" data-query-source=\"hashtag_click\" dir=\"ltr\" href=\"/hashtag/mpgvip?src=hash\"><s>#</s><b>mpgvip</b></a> <a class=\"twitter-hashtag pretty-link js-nav\" data-query-source=\"hashtag_click\" dir=\"ltr\" href=\"/hashtag/defstar5?src=hash\"><s>#</s><b>defstar5</b></a> <a class=\"twitter-hashtag pretty-link js-nav\" data-query-source=\"hashtag_click\" dir=\"ltr\" href=\"/hashtag/makeyourownlane?src=hash\"><s>#</s><b>makeyourownlane</b></a> <a class=\"twitter-hashtag pretty-link js-nav\" data-query-source=\"hashtag_click\" dir=\"ltr\" href=\"/hashtag/InsurTech?src=hash\"><s>#</s><b>InsurTech</b></a> <a class=\"twitter-hashtag pretty-link js-nav\" data-query-source=\"hashtag_click\" dir=\"ltr\" href=\"/hashtag/Banking?src=hash\"><s>#</s><b>Banking</b></a> <a class=\"twitter-hashtag pretty-link js-nav\" data-query-source=\"hashtag_click\" dir=\"ltr\" href=\"/hashtag/Economy?src=hash\"><s>#</s><b>Economy</b></a><a class=\"twitter-timeline-link u-hidden\" data-pre-embedded=\"true\" dir=\"ltr\" href=\"https://t.co/C6LKt8dkDn\">pic.twitter.com/C6LKt8dkDn</a></p>', 'likes': '59', 'text': 'The #Bitcoin Ecosystem. #Blockchain #Fintech #mpgvip #defstar5 #makeyourownlane #InsurTech #Banking #Economypic.twitter.com/C6LKt8dkDn', 'retweets': '56', 'url': '/Bitcoin_Friend/status/865990254632644608', 'user': 'Bitcoin_Friend', 'timestamp': '2017-05-20T17:59:00'}\n"
     ]
    }
   ],
   "source": [
    "print(tweets[0])"
   ]
  },
  {
   "cell_type": "code",
   "execution_count": 5,
   "metadata": {},
   "outputs": [
    {
     "name": "stdout",
     "output_type": "stream",
     "text": [
      "100138\n"
     ]
    }
   ],
   "source": [
    "print(tweets.__len__())"
   ]
  },
  {
   "cell_type": "code",
   "execution_count": 6,
   "metadata": {},
   "outputs": [],
   "source": [
    "import pandas as pd\n",
    "from collections import OrderedDict\n",
    "from datetime import date"
   ]
  },
  {
   "cell_type": "code",
   "execution_count": 7,
   "metadata": {},
   "outputs": [],
   "source": [
    "df = pd.DataFrame(tweets)"
   ]
  },
  {
   "cell_type": "code",
   "execution_count": 8,
   "metadata": {
    "scrolled": false
   },
   "outputs": [
    {
     "data": {
      "text/html": [
       "<div>\n",
       "<style scoped>\n",
       "    .dataframe tbody tr th:only-of-type {\n",
       "        vertical-align: middle;\n",
       "    }\n",
       "\n",
       "    .dataframe tbody tr th {\n",
       "        vertical-align: top;\n",
       "    }\n",
       "\n",
       "    .dataframe thead th {\n",
       "        text-align: right;\n",
       "    }\n",
       "</style>\n",
       "<table border=\"1\" class=\"dataframe\">\n",
       "  <thead>\n",
       "    <tr style=\"text-align: right;\">\n",
       "      <th></th>\n",
       "      <th>timestamp</th>\n",
       "      <th>user</th>\n",
       "      <th>text</th>\n",
       "      <th>retweets</th>\n",
       "      <th>replies</th>\n",
       "      <th>likes</th>\n",
       "    </tr>\n",
       "  </thead>\n",
       "  <tbody>\n",
       "    <tr>\n",
       "      <th>100133</th>\n",
       "      <td>2018-03-01T22:30:45</td>\n",
       "      <td>Responsense</td>\n",
       "      <td>Hey I just received 500 GRAM Tokens as a bonus...</td>\n",
       "      <td>0</td>\n",
       "      <td>0</td>\n",
       "      <td>0</td>\n",
       "    </tr>\n",
       "    <tr>\n",
       "      <th>100134</th>\n",
       "      <td>2018-03-01T22:30:45</td>\n",
       "      <td>BTC_Ron</td>\n",
       "      <td>It occurred to me this tariff on steel and alu...</td>\n",
       "      <td>0</td>\n",
       "      <td>0</td>\n",
       "      <td>0</td>\n",
       "    </tr>\n",
       "    <tr>\n",
       "      <th>100135</th>\n",
       "      <td>2018-03-01T22:30:44</td>\n",
       "      <td>CRDZ_TA</td>\n",
       "      <td>“Japan currently ranks as the largest #Bitcoin...</td>\n",
       "      <td>0</td>\n",
       "      <td>0</td>\n",
       "      <td>0</td>\n",
       "    </tr>\n",
       "    <tr>\n",
       "      <th>100136</th>\n",
       "      <td>2018-03-01T22:30:41</td>\n",
       "      <td>arnekk</td>\n",
       "      <td>http://bit.ly/2HWjosV  Alemanha reconhecendo b...</td>\n",
       "      <td>0</td>\n",
       "      <td>0</td>\n",
       "      <td>1</td>\n",
       "    </tr>\n",
       "    <tr>\n",
       "      <th>100137</th>\n",
       "      <td>2018-03-01T22:30:41</td>\n",
       "      <td>cloudubq</td>\n",
       "      <td>Arm Cortex-M3 processor - the core of the Inte...</td>\n",
       "      <td>2</td>\n",
       "      <td>0</td>\n",
       "      <td>1</td>\n",
       "    </tr>\n",
       "  </tbody>\n",
       "</table>\n",
       "</div>"
      ],
      "text/plain": [
       "                  timestamp         user  \\\n",
       "100133  2018-03-01T22:30:45  Responsense   \n",
       "100134  2018-03-01T22:30:45      BTC_Ron   \n",
       "100135  2018-03-01T22:30:44      CRDZ_TA   \n",
       "100136  2018-03-01T22:30:41       arnekk   \n",
       "100137  2018-03-01T22:30:41     cloudubq   \n",
       "\n",
       "                                                     text retweets replies  \\\n",
       "100133  Hey I just received 500 GRAM Tokens as a bonus...        0       0   \n",
       "100134  It occurred to me this tariff on steel and alu...        0       0   \n",
       "100135  “Japan currently ranks as the largest #Bitcoin...        0       0   \n",
       "100136  http://bit.ly/2HWjosV  Alemanha reconhecendo b...        0       0   \n",
       "100137  Arm Cortex-M3 processor - the core of the Inte...        2       0   \n",
       "\n",
       "       likes  \n",
       "100133     0  \n",
       "100134     0  \n",
       "100135     0  \n",
       "100136     1  \n",
       "100137     1  "
      ]
     },
     "execution_count": 8,
     "metadata": {},
     "output_type": "execute_result"
    }
   ],
   "source": [
    "df[['timestamp','user','text','retweets','replies','likes']].tail()"
   ]
  },
  {
   "cell_type": "code",
   "execution_count": 11,
   "metadata": {},
   "outputs": [],
   "source": [
    "# size=290195\n",
    "# steps=(int)(df.values.shape[0]/size)+1\n",
    "# for i in range(steps):\n",
    "#     tempDf = df.iloc[i*size:i*size+size]\n",
    "#     tempDf.to_csv('csv/t_{}.csv'.format(i), sep=',',Index=False, encoding='utf-8')\n",
    "\n",
    "# print('done')\n",
    "df.to_csv('dataset/csv/{}.csv'.format(file_name), sep=',', index=False, encoding='utf-8')"
   ]
  },
  {
   "cell_type": "markdown",
   "metadata": {},
   "source": []
  },
  {
   "cell_type": "code",
   "execution_count": null,
   "metadata": {},
   "outputs": [],
   "source": []
  },
  {
   "cell_type": "code",
   "execution_count": null,
   "metadata": {},
   "outputs": [],
   "source": []
  }
 ],
 "metadata": {
  "kernelspec": {
   "display_name": "Python 3",
   "language": "python",
   "name": "python3"
  },
  "language_info": {
   "codemirror_mode": {
    "name": "ipython",
    "version": 3
   },
   "file_extension": ".py",
   "mimetype": "text/x-python",
   "name": "python",
   "nbconvert_exporter": "python",
   "pygments_lexer": "ipython3",
   "version": "3.6.4"
  }
 },
 "nbformat": 4,
 "nbformat_minor": 2
}
