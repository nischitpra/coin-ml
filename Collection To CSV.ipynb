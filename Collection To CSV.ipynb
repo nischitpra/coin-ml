{
 "cells": [
  {
   "cell_type": "markdown",
   "metadata": {},
   "source": [
    "# Currency Pairs"
   ]
  },
  {
   "cell_type": "markdown",
   "metadata": {},
   "source": [
    "1. BTC_ETH_1\n",
    "* BTC_USD_1\n",
    "* CND_BTC_1\n",
    "* CND_ETH_1\n",
    "* CND_USD_1\n",
    "* DASH_BTC_1\n",
    "* DASH_ETH_1\n",
    "* DTC_BTC_1\n",
    "* EOS_BTC_1\n",
    "* EOS_ETH_1\n",
    "* EOS_USD_1\n",
    "* ETH_BTC_1\n",
    "* IOTA_BTC_1\n",
    "* LTC_BTC_1\n",
    "* NEO_BTC_1\n",
    "* NEO_ETH_1\n",
    "* NEO_USD_1\n",
    "* RPX_BTC_1\n",
    "* RPX_USD_1\n",
    "* TRX_BTC_1\n",
    "* TRX_ETH_1\n",
    "* TRX_USD_1\n",
    "* XEM_BTC_1\n",
    "* XEM_ETH_1\n",
    "* XEM_USD_1\n",
    "* XMR_BTC_1\n",
    "* XMR_ETH_1\n",
    "* XMR_USD_1\n",
    "* XRP_BTC_1\n",
    "* XRP_ETH_1\n",
    "* XRP_USD_1"
   ]
  },
  {
   "cell_type": "code",
   "execution_count": 1,
   "metadata": {},
   "outputs": [],
   "source": [
    "pair_list=[\n",
    "'BTC_ETH_1',\n",
    "'BTC_USD_1',\n",
    "'CND_BTC_1',\n",
    "'CND_ETH_1',\n",
    "'CND_USD_1',\n",
    "'DASH_BTC_1',\n",
    "'DASH_ETH_1',\n",
    "'DTC_BTC_1',\n",
    "'EOS_BTC_1',\n",
    "'EOS_ETH_1',\n",
    "'EOS_USD_1',\n",
    "'ETH_BTC_1',\n",
    "'IOTA_BTC_1',\n",
    "'LTC_BTC_1',\n",
    "'NEO_BTC_1',\n",
    "'NEO_ETH_1',\n",
    "'NEO_USD_1',\n",
    "'RPX_BTC_1',\n",
    "'RPX_USD_1',\n",
    "'TRX_BTC_1',\n",
    "'TRX_ETH_1',\n",
    "'TRX_USD_1',\n",
    "'XEM_BTC_1',\n",
    "'XEM_ETH_1',\n",
    "'XEM_USD_1',\n",
    "'XMR_BTC_1',\n",
    "'XMR_ETH_1',\n",
    "'XMR_USD_1',\n",
    "'XRP_BTC_1',\n",
    "'XRP_ETH_1',\n",
    "'XRP_USD_1',\n",
    "]"
   ]
  },
  {
   "cell_type": "code",
   "execution_count": 2,
   "metadata": {},
   "outputs": [],
   "source": [
    "import pandas as pd\n",
    "import sys\n",
    "from pymongo import MongoClient\n",
    "\n",
    "base_path='/Users/oyo/Desktop/awesome/tweets/'\n",
    "\n",
    "client = MongoClient()\n",
    "client = MongoClient('localhost', 27017)\n",
    "db = client.coins"
   ]
  },
  {
   "cell_type": "code",
   "execution_count": 5,
   "metadata": {},
   "outputs": [],
   "source": [
    "for pair in pair_list:\n",
    "    df=pd.DataFrame(list(db[pair].find().sort('time',1)))\n",
    "    #take average of window size 40\n",
    "    df.to_csv(base_path+'dataset/csv/history_trend/{}.csv'.format(pair), sep=',', index=False)"
   ]
  },
  {
   "cell_type": "code",
   "execution_count": null,
   "metadata": {},
   "outputs": [],
   "source": []
  }
 ],
 "metadata": {
  "kernelspec": {
   "display_name": "Python 3",
   "language": "python",
   "name": "python3"
  },
  "language_info": {
   "codemirror_mode": {
    "name": "ipython",
    "version": 3
   },
   "file_extension": ".py",
   "mimetype": "text/x-python",
   "name": "python",
   "nbconvert_exporter": "python",
   "pygments_lexer": "ipython3",
   "version": "3.6.4"
  }
 },
 "nbformat": 4,
 "nbformat_minor": 2
}
